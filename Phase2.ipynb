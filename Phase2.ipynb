{
 "cells": [
  {
   "cell_type": "markdown",
   "metadata": {},
   "source": [
    "# Phase 2"
   ]
  },
  {
   "cell_type": "markdown",
   "metadata": {},
   "source": [
    "Accomplishments : We built our first model using GRU and trained the model using five stations, where each station has five variables (temperature, humidity, pressure, wind speed, and wind direction). \n",
    "\n",
    "Challenges : When we trained our model, our model was good at predicting the trend (when to go up and when to go down), but it was not good at predicting the peak.\n",
    "\n",
    "What we expect to accomplish : We will include time label (hour, day, or month) to more accurately predict the temperature peak and reduce the MSE."
   ]
  },
  {
   "cell_type": "code",
   "execution_count": 71,
   "metadata": {},
   "outputs": [],
   "source": [
    "import numpy as np\n",
    "import pandas as pd\n",
    "import matplotlib.pyplot as plt\n",
    "import seaborn as sns\n",
    "import os\n",
    "import tensorflow as tf\n",
    "\n",
    "#Stacked auto encoder\n",
    "from keras.layers import *\n",
    "from keras.models import Model, Sequential\n",
    "from keras.layers import Input, LSTM, RepeatVector\n",
    "\n",
    "\n",
    "#Random Forest Model\n",
    "from sklearn.ensemble import RandomForestRegressor\n",
    "model = RandomForestRegressor(n_estimators=500, random_state=1)\n",
    "\n",
    "from matplotlib import pyplot\n",
    "from sklearn.preprocessing import MinMaxScaler\n",
    "\n",
    "\n",
    "import warnings\n",
    "warnings.filterwarnings('ignore')\n",
    "\n",
    "os.environ[\"KMP_DUPLICATE_LIB_OK\"]=\"True\"\n",
    "%matplotlib inline\n",
    "\n",
    "from keras.optimizers import RMSprop"
   ]
  },
  {
   "cell_type": "code",
   "execution_count": 2,
   "metadata": {},
   "outputs": [],
   "source": [
    "from keras.models import Sequential\n",
    "from keras.layers import Input, Dense, GRU, Embedding\n",
    "from keras.callbacks import EarlyStopping, ModelCheckpoint, TensorBoard, ReduceLROnPlateau"
   ]
  },
  {
   "cell_type": "code",
   "execution_count": 3,
   "metadata": {},
   "outputs": [],
   "source": [
    "def process_FAA_hourly_data(filename):\n",
    "    path = os.getcwd()\n",
    "    pathfile = os.path.join(path,\"Data\",filename)\n",
    "    df_temps = pd.read_csv(pathfile, skiprows=16)\n",
    "    df_temps = df_temps.iloc[:,:-1]\n",
    "    df_temps = df_temps.loc[df_temps[df_temps.columns[0]] != df_temps.columns[0]]\n",
    "    df_temps[df_temps.columns[1]] = df_temps[df_temps.columns[1]].apply(pd.to_numeric, downcast = \"integer\")\n",
    "    df_temps[df_temps.columns[2:]] = df_temps[df_temps.columns[2:]].apply(pd.to_numeric, downcast = \"float\")\n",
    "    df_temps = df_temps.set_index(pd.DatetimeIndex(df_temps[df_temps.columns[0]]))\n",
    "    df_temps = df_temps.drop([df_temps.columns[0]], axis=1)\n",
    "    return df_temps"
   ]
  },
  {
   "cell_type": "code",
   "execution_count": 4,
   "metadata": {},
   "outputs": [],
   "source": [
    "df_kphl = process_FAA_hourly_data(\"faa_hourly-KPHL_20120101-20190101.csv\")\n",
    "df_kabe = process_FAA_hourly_data(\"faa_hourly-KABE_20120101-20190101.csv\")\n",
    "df_kacy = process_FAA_hourly_data(\"faa_hourly-KACY_20120101-20190101.csv\")\n",
    "df_kttn = process_FAA_hourly_data(\"faa_hourly-KTTN_20120101-20190101.csv\")\n",
    "df_klns = process_FAA_hourly_data(\"faa_hourly-KLNS_20120101-20190101.csv\")\n"
   ]
  },
  {
   "cell_type": "code",
   "execution_count": 5,
   "metadata": {},
   "outputs": [
    {
     "data": {
      "text/html": [
       "<div>\n",
       "<style scoped>\n",
       "    .dataframe tbody tr th:only-of-type {\n",
       "        vertical-align: middle;\n",
       "    }\n",
       "\n",
       "    .dataframe tbody tr th {\n",
       "        vertical-align: top;\n",
       "    }\n",
       "\n",
       "    .dataframe thead th {\n",
       "        text-align: right;\n",
       "    }\n",
       "</style>\n",
       "<table border=\"1\" class=\"dataframe\">\n",
       "  <thead>\n",
       "    <tr style=\"text-align: right;\">\n",
       "      <th></th>\n",
       "      <th>Number of Observations (n/a)</th>\n",
       "      <th>Average Temp (F)</th>\n",
       "      <th>Max Temp (F)</th>\n",
       "      <th>Min Temp (F)</th>\n",
       "      <th>Average Dewpoint Temp (F)</th>\n",
       "      <th>1 Hour Precip (in)</th>\n",
       "      <th>Max Wind Gust (mph)</th>\n",
       "      <th>Average Relative Humidity (%)</th>\n",
       "      <th>Average Wind Speed (mph)</th>\n",
       "      <th>Average Station Pressure (mb)</th>\n",
       "      <th>Average Wind Direction (deg)</th>\n",
       "      <th>Max Wind Speed (mph)</th>\n",
       "    </tr>\n",
       "    <tr>\n",
       "      <th>Date/Time (GMT)</th>\n",
       "      <th></th>\n",
       "      <th></th>\n",
       "      <th></th>\n",
       "      <th></th>\n",
       "      <th></th>\n",
       "      <th></th>\n",
       "      <th></th>\n",
       "      <th></th>\n",
       "      <th></th>\n",
       "      <th></th>\n",
       "      <th></th>\n",
       "      <th></th>\n",
       "    </tr>\n",
       "  </thead>\n",
       "  <tbody>\n",
       "    <tr>\n",
       "      <th>2012-01-01 00:00:00</th>\n",
       "      <td>1</td>\n",
       "      <td>52.000000</td>\n",
       "      <td>52.000000</td>\n",
       "      <td>52.000000</td>\n",
       "      <td>36.000000</td>\n",
       "      <td>NaN</td>\n",
       "      <td>NaN</td>\n",
       "      <td>54.0</td>\n",
       "      <td>10.4</td>\n",
       "      <td>1016.900024</td>\n",
       "      <td>290.0</td>\n",
       "      <td>10.4</td>\n",
       "    </tr>\n",
       "    <tr>\n",
       "      <th>2012-01-01 01:00:00</th>\n",
       "      <td>1</td>\n",
       "      <td>51.099998</td>\n",
       "      <td>51.099998</td>\n",
       "      <td>51.099998</td>\n",
       "      <td>36.000000</td>\n",
       "      <td>NaN</td>\n",
       "      <td>NaN</td>\n",
       "      <td>56.0</td>\n",
       "      <td>10.4</td>\n",
       "      <td>1017.599976</td>\n",
       "      <td>280.0</td>\n",
       "      <td>10.4</td>\n",
       "    </tr>\n",
       "    <tr>\n",
       "      <th>2012-01-01 02:00:00</th>\n",
       "      <td>1</td>\n",
       "      <td>51.099998</td>\n",
       "      <td>51.099998</td>\n",
       "      <td>51.099998</td>\n",
       "      <td>36.000000</td>\n",
       "      <td>NaN</td>\n",
       "      <td>19.6</td>\n",
       "      <td>56.0</td>\n",
       "      <td>15.0</td>\n",
       "      <td>1018.299988</td>\n",
       "      <td>290.0</td>\n",
       "      <td>15.0</td>\n",
       "    </tr>\n",
       "    <tr>\n",
       "      <th>2012-01-01 03:00:00</th>\n",
       "      <td>1</td>\n",
       "      <td>50.000000</td>\n",
       "      <td>50.000000</td>\n",
       "      <td>50.000000</td>\n",
       "      <td>36.000000</td>\n",
       "      <td>NaN</td>\n",
       "      <td>NaN</td>\n",
       "      <td>58.0</td>\n",
       "      <td>13.8</td>\n",
       "      <td>1019.000000</td>\n",
       "      <td>280.0</td>\n",
       "      <td>13.8</td>\n",
       "    </tr>\n",
       "    <tr>\n",
       "      <th>2012-01-01 04:00:00</th>\n",
       "      <td>1</td>\n",
       "      <td>48.900002</td>\n",
       "      <td>48.900002</td>\n",
       "      <td>48.900002</td>\n",
       "      <td>35.099998</td>\n",
       "      <td>NaN</td>\n",
       "      <td>NaN</td>\n",
       "      <td>59.0</td>\n",
       "      <td>8.1</td>\n",
       "      <td>1019.000000</td>\n",
       "      <td>300.0</td>\n",
       "      <td>8.1</td>\n",
       "    </tr>\n",
       "  </tbody>\n",
       "</table>\n",
       "</div>"
      ],
      "text/plain": [
       "                     Number of Observations (n/a)  Average Temp (F)  \\\n",
       "Date/Time (GMT)                                                       \n",
       "2012-01-01 00:00:00                             1         52.000000   \n",
       "2012-01-01 01:00:00                             1         51.099998   \n",
       "2012-01-01 02:00:00                             1         51.099998   \n",
       "2012-01-01 03:00:00                             1         50.000000   \n",
       "2012-01-01 04:00:00                             1         48.900002   \n",
       "\n",
       "                     Max Temp (F)  Min Temp (F)  Average Dewpoint Temp (F)  \\\n",
       "Date/Time (GMT)                                                              \n",
       "2012-01-01 00:00:00     52.000000     52.000000                  36.000000   \n",
       "2012-01-01 01:00:00     51.099998     51.099998                  36.000000   \n",
       "2012-01-01 02:00:00     51.099998     51.099998                  36.000000   \n",
       "2012-01-01 03:00:00     50.000000     50.000000                  36.000000   \n",
       "2012-01-01 04:00:00     48.900002     48.900002                  35.099998   \n",
       "\n",
       "                     1 Hour Precip (in)  Max Wind Gust (mph)  \\\n",
       "Date/Time (GMT)                                                \n",
       "2012-01-01 00:00:00                 NaN                  NaN   \n",
       "2012-01-01 01:00:00                 NaN                  NaN   \n",
       "2012-01-01 02:00:00                 NaN                 19.6   \n",
       "2012-01-01 03:00:00                 NaN                  NaN   \n",
       "2012-01-01 04:00:00                 NaN                  NaN   \n",
       "\n",
       "                     Average Relative Humidity (%)  Average Wind Speed (mph)  \\\n",
       "Date/Time (GMT)                                                                \n",
       "2012-01-01 00:00:00                           54.0                      10.4   \n",
       "2012-01-01 01:00:00                           56.0                      10.4   \n",
       "2012-01-01 02:00:00                           56.0                      15.0   \n",
       "2012-01-01 03:00:00                           58.0                      13.8   \n",
       "2012-01-01 04:00:00                           59.0                       8.1   \n",
       "\n",
       "                     Average Station Pressure (mb)  \\\n",
       "Date/Time (GMT)                                      \n",
       "2012-01-01 00:00:00                    1016.900024   \n",
       "2012-01-01 01:00:00                    1017.599976   \n",
       "2012-01-01 02:00:00                    1018.299988   \n",
       "2012-01-01 03:00:00                    1019.000000   \n",
       "2012-01-01 04:00:00                    1019.000000   \n",
       "\n",
       "                     Average Wind Direction (deg)  Max Wind Speed (mph)  \n",
       "Date/Time (GMT)                                                          \n",
       "2012-01-01 00:00:00                         290.0                  10.4  \n",
       "2012-01-01 01:00:00                         280.0                  10.4  \n",
       "2012-01-01 02:00:00                         290.0                  15.0  \n",
       "2012-01-01 03:00:00                         280.0                  13.8  \n",
       "2012-01-01 04:00:00                         300.0                   8.1  "
      ]
     },
     "execution_count": 5,
     "metadata": {},
     "output_type": "execute_result"
    }
   ],
   "source": [
    "df_kphl.head()"
   ]
  },
  {
   "cell_type": "markdown",
   "metadata": {},
   "source": [
    "# Extract Five variables: temperature, humidity, wind speed, pressure, and wind direction"
   ]
  },
  {
   "cell_type": "code",
   "execution_count": 8,
   "metadata": {},
   "outputs": [],
   "source": [
    "df_kphl_useful = df_kphl.iloc[:,[1,7,8,9,10]]\n",
    "df_kabe_useful = df_kabe.iloc[:,[1,7,8,9,10]]\n",
    "df_kacy_useful = df_kacy.iloc[:,[1,7,8,9,10]]\n",
    "df_kttn_useful = df_kttn.iloc[:,[1,7,8,9,10]]\n",
    "df_klns_useful = df_klns.iloc[:,[1,7,8,9,10]]\n"
   ]
  },
  {
   "cell_type": "code",
   "execution_count": 9,
   "metadata": {},
   "outputs": [],
   "source": [
    "start = df_kphl_useful.index[0]\n",
    "end = df_kphl_useful.index[-1]\n",
    "idx = pd.date_range(start, end, freq='H')\n",
    "\n",
    "df_kphl_useful = df_kphl_useful.reindex(idx, fill_value = np.nan)\n",
    "df_kabe_useful = df_kabe_useful.reindex(idx, fill_value = np.nan)\n",
    "df_kacy_useful = df_kacy_useful.reindex(idx, fill_value = np.nan)\n",
    "df_kttn_useful = df_kttn_useful.reindex(idx, fill_value = np.nan)\n",
    "df_klns_useful = df_klns_useful.reindex(idx, fill_value = np.nan)\n",
    "\n",
    "df_kphl_useful[\"Date/Time (GMT)\"] = idx\n",
    "df_kphl_useful = df_kphl_useful.set_index(pd.DatetimeIndex(df_kphl_useful[df_kphl_useful.columns[5]]))\n",
    "df_kabe_useful[\"Date/Time (GMT)\"] = idx\n",
    "df_kabe_useful = df_kabe_useful.set_index(pd.DatetimeIndex(df_kabe_useful[df_kabe_useful.columns[5]]))\n",
    "df_kacy_useful[\"Date/Time (GMT)\"] = idx\n",
    "df_kacy_useful = df_kacy_useful.set_index(pd.DatetimeIndex(df_kacy_useful[df_kacy_useful.columns[5]]))\n",
    "df_kttn_useful[\"Date/Time (GMT)\"] = idx\n",
    "df_kttn_useful = df_kttn_useful.set_index(pd.DatetimeIndex(df_kttn_useful[df_kttn_useful.columns[5]]))\n",
    "df_klns_useful[\"Date/Time (GMT)\"] = idx\n",
    "df_klns_useful = df_klns_useful.set_index(pd.DatetimeIndex(df_klns_useful[df_klns_useful.columns[5]]))\n",
    "\n",
    "\n",
    "df_kphl_useful = df_kphl_useful.drop(columns=[\"Date/Time (GMT)\"])\n",
    "df_kabe_useful = df_kabe_useful.drop(columns=[\"Date/Time (GMT)\"])\n",
    "df_kacy_useful = df_kacy_useful.drop(columns=[\"Date/Time (GMT)\"])\n",
    "df_kttn_useful = df_kttn_useful.drop(columns=[\"Date/Time (GMT)\"])\n",
    "df_klns_useful = df_klns_useful.drop(columns=[\"Date/Time (GMT)\"])\n",
    "\n",
    "df_kphl_useful = df_kphl_useful.fillna(method = \"ffill\")\n",
    "df_kabe_useful = df_kabe_useful.fillna(method = \"ffill\")\n",
    "df_kacy_useful = df_kacy_useful.fillna(method = \"ffill\")\n",
    "df_kttn_useful = df_kttn_useful.fillna(method = \"ffill\")\n",
    "df_klns_useful = df_klns_useful.fillna(method = \"ffill\")"
   ]
  },
  {
   "cell_type": "markdown",
   "metadata": {},
   "source": [
    "# combine all five stations and make one dataframe"
   ]
  },
  {
   "cell_type": "code",
   "execution_count": 10,
   "metadata": {},
   "outputs": [],
   "source": [
    "d = {'kphl' : df_kphl_useful, \n",
    "     'kabe' : df_kabe_useful, \n",
    "     'kacy' : df_kacy_useful,\n",
    "     'klns' : df_klns_useful,\n",
    "     'kttn' : df_kttn_useful,}\n",
    "df_merge = pd.concat(d.values(), axis=1, keys=d.keys())"
   ]
  },
  {
   "cell_type": "code",
   "execution_count": 11,
   "metadata": {},
   "outputs": [
    {
     "data": {
      "text/html": [
       "<div>\n",
       "<style scoped>\n",
       "    .dataframe tbody tr th:only-of-type {\n",
       "        vertical-align: middle;\n",
       "    }\n",
       "\n",
       "    .dataframe tbody tr th {\n",
       "        vertical-align: top;\n",
       "    }\n",
       "\n",
       "    .dataframe thead tr th {\n",
       "        text-align: left;\n",
       "    }\n",
       "\n",
       "    .dataframe thead tr:last-of-type th {\n",
       "        text-align: right;\n",
       "    }\n",
       "</style>\n",
       "<table border=\"1\" class=\"dataframe\">\n",
       "  <thead>\n",
       "    <tr>\n",
       "      <th></th>\n",
       "      <th colspan=\"5\" halign=\"left\">kphl</th>\n",
       "      <th colspan=\"5\" halign=\"left\">kabe</th>\n",
       "      <th>...</th>\n",
       "      <th colspan=\"5\" halign=\"left\">klns</th>\n",
       "      <th colspan=\"5\" halign=\"left\">kttn</th>\n",
       "    </tr>\n",
       "    <tr>\n",
       "      <th></th>\n",
       "      <th>Average Temp (F)</th>\n",
       "      <th>Average Relative Humidity (%)</th>\n",
       "      <th>Average Wind Speed (mph)</th>\n",
       "      <th>Average Station Pressure (mb)</th>\n",
       "      <th>Average Wind Direction (deg)</th>\n",
       "      <th>Average Temp (F)</th>\n",
       "      <th>Average Relative Humidity (%)</th>\n",
       "      <th>Average Wind Speed (mph)</th>\n",
       "      <th>Average Station Pressure (mb)</th>\n",
       "      <th>Average Wind Direction (deg)</th>\n",
       "      <th>...</th>\n",
       "      <th>Average Temp (F)</th>\n",
       "      <th>Average Relative Humidity (%)</th>\n",
       "      <th>Average Wind Speed (mph)</th>\n",
       "      <th>Average Station Pressure (mb)</th>\n",
       "      <th>Average Wind Direction (deg)</th>\n",
       "      <th>Average Temp (F)</th>\n",
       "      <th>Average Relative Humidity (%)</th>\n",
       "      <th>Average Wind Speed (mph)</th>\n",
       "      <th>Average Station Pressure (mb)</th>\n",
       "      <th>Average Wind Direction (deg)</th>\n",
       "    </tr>\n",
       "    <tr>\n",
       "      <th>Date/Time (GMT)</th>\n",
       "      <th></th>\n",
       "      <th></th>\n",
       "      <th></th>\n",
       "      <th></th>\n",
       "      <th></th>\n",
       "      <th></th>\n",
       "      <th></th>\n",
       "      <th></th>\n",
       "      <th></th>\n",
       "      <th></th>\n",
       "      <th></th>\n",
       "      <th></th>\n",
       "      <th></th>\n",
       "      <th></th>\n",
       "      <th></th>\n",
       "      <th></th>\n",
       "      <th></th>\n",
       "      <th></th>\n",
       "      <th></th>\n",
       "      <th></th>\n",
       "      <th></th>\n",
       "    </tr>\n",
       "  </thead>\n",
       "  <tbody>\n",
       "    <tr>\n",
       "      <th>2012-01-01 00:00:00</th>\n",
       "      <td>52.000000</td>\n",
       "      <td>54.0</td>\n",
       "      <td>10.4</td>\n",
       "      <td>1016.900024</td>\n",
       "      <td>290.0</td>\n",
       "      <td>46.000000</td>\n",
       "      <td>73.0</td>\n",
       "      <td>5.8</td>\n",
       "      <td>1015.900024</td>\n",
       "      <td>270.0</td>\n",
       "      <td>...</td>\n",
       "      <td>46.900002</td>\n",
       "      <td>71.0</td>\n",
       "      <td>11.5</td>\n",
       "      <td>1017.299988</td>\n",
       "      <td>290.0</td>\n",
       "      <td>50.000000</td>\n",
       "      <td>61.0</td>\n",
       "      <td>6.9</td>\n",
       "      <td>1015.599976</td>\n",
       "      <td>290.0</td>\n",
       "    </tr>\n",
       "    <tr>\n",
       "      <th>2012-01-01 01:00:00</th>\n",
       "      <td>51.099998</td>\n",
       "      <td>56.0</td>\n",
       "      <td>10.4</td>\n",
       "      <td>1017.599976</td>\n",
       "      <td>280.0</td>\n",
       "      <td>46.000000</td>\n",
       "      <td>73.0</td>\n",
       "      <td>9.2</td>\n",
       "      <td>1016.299988</td>\n",
       "      <td>300.0</td>\n",
       "      <td>...</td>\n",
       "      <td>46.900002</td>\n",
       "      <td>71.0</td>\n",
       "      <td>8.1</td>\n",
       "      <td>1017.900024</td>\n",
       "      <td>280.0</td>\n",
       "      <td>48.000000</td>\n",
       "      <td>66.0</td>\n",
       "      <td>6.9</td>\n",
       "      <td>1016.299988</td>\n",
       "      <td>280.0</td>\n",
       "    </tr>\n",
       "    <tr>\n",
       "      <th>2012-01-01 02:00:00</th>\n",
       "      <td>51.099998</td>\n",
       "      <td>56.0</td>\n",
       "      <td>15.0</td>\n",
       "      <td>1018.299988</td>\n",
       "      <td>290.0</td>\n",
       "      <td>44.099998</td>\n",
       "      <td>76.0</td>\n",
       "      <td>5.8</td>\n",
       "      <td>1017.299988</td>\n",
       "      <td>280.0</td>\n",
       "      <td>...</td>\n",
       "      <td>46.000000</td>\n",
       "      <td>71.0</td>\n",
       "      <td>6.9</td>\n",
       "      <td>1018.299988</td>\n",
       "      <td>280.0</td>\n",
       "      <td>48.000000</td>\n",
       "      <td>66.0</td>\n",
       "      <td>6.9</td>\n",
       "      <td>1016.900024</td>\n",
       "      <td>300.0</td>\n",
       "    </tr>\n",
       "    <tr>\n",
       "      <th>2012-01-01 03:00:00</th>\n",
       "      <td>50.000000</td>\n",
       "      <td>58.0</td>\n",
       "      <td>13.8</td>\n",
       "      <td>1019.000000</td>\n",
       "      <td>280.0</td>\n",
       "      <td>41.000000</td>\n",
       "      <td>82.0</td>\n",
       "      <td>5.8</td>\n",
       "      <td>1017.900024</td>\n",
       "      <td>260.0</td>\n",
       "      <td>...</td>\n",
       "      <td>44.099998</td>\n",
       "      <td>76.0</td>\n",
       "      <td>8.1</td>\n",
       "      <td>1019.000000</td>\n",
       "      <td>260.0</td>\n",
       "      <td>46.900002</td>\n",
       "      <td>68.0</td>\n",
       "      <td>5.8</td>\n",
       "      <td>1017.599976</td>\n",
       "      <td>310.0</td>\n",
       "    </tr>\n",
       "    <tr>\n",
       "      <th>2012-01-01 04:00:00</th>\n",
       "      <td>48.900002</td>\n",
       "      <td>59.0</td>\n",
       "      <td>8.1</td>\n",
       "      <td>1019.000000</td>\n",
       "      <td>300.0</td>\n",
       "      <td>44.099998</td>\n",
       "      <td>79.0</td>\n",
       "      <td>3.5</td>\n",
       "      <td>1018.299988</td>\n",
       "      <td>240.0</td>\n",
       "      <td>...</td>\n",
       "      <td>39.000000</td>\n",
       "      <td>82.0</td>\n",
       "      <td>0.0</td>\n",
       "      <td>1019.299988</td>\n",
       "      <td>0.0</td>\n",
       "      <td>46.000000</td>\n",
       "      <td>71.0</td>\n",
       "      <td>8.1</td>\n",
       "      <td>1017.900024</td>\n",
       "      <td>320.0</td>\n",
       "    </tr>\n",
       "  </tbody>\n",
       "</table>\n",
       "<p>5 rows × 25 columns</p>\n",
       "</div>"
      ],
      "text/plain": [
       "                                kphl                                \\\n",
       "                    Average Temp (F) Average Relative Humidity (%)   \n",
       "Date/Time (GMT)                                                      \n",
       "2012-01-01 00:00:00        52.000000                          54.0   \n",
       "2012-01-01 01:00:00        51.099998                          56.0   \n",
       "2012-01-01 02:00:00        51.099998                          56.0   \n",
       "2012-01-01 03:00:00        50.000000                          58.0   \n",
       "2012-01-01 04:00:00        48.900002                          59.0   \n",
       "\n",
       "                                                                            \\\n",
       "                    Average Wind Speed (mph) Average Station Pressure (mb)   \n",
       "Date/Time (GMT)                                                              \n",
       "2012-01-01 00:00:00                     10.4                   1016.900024   \n",
       "2012-01-01 01:00:00                     10.4                   1017.599976   \n",
       "2012-01-01 02:00:00                     15.0                   1018.299988   \n",
       "2012-01-01 03:00:00                     13.8                   1019.000000   \n",
       "2012-01-01 04:00:00                      8.1                   1019.000000   \n",
       "\n",
       "                                                             kabe  \\\n",
       "                    Average Wind Direction (deg) Average Temp (F)   \n",
       "Date/Time (GMT)                                                     \n",
       "2012-01-01 00:00:00                        290.0        46.000000   \n",
       "2012-01-01 01:00:00                        280.0        46.000000   \n",
       "2012-01-01 02:00:00                        290.0        44.099998   \n",
       "2012-01-01 03:00:00                        280.0        41.000000   \n",
       "2012-01-01 04:00:00                        300.0        44.099998   \n",
       "\n",
       "                                                                            \\\n",
       "                    Average Relative Humidity (%) Average Wind Speed (mph)   \n",
       "Date/Time (GMT)                                                              \n",
       "2012-01-01 00:00:00                          73.0                      5.8   \n",
       "2012-01-01 01:00:00                          73.0                      9.2   \n",
       "2012-01-01 02:00:00                          76.0                      5.8   \n",
       "2012-01-01 03:00:00                          82.0                      5.8   \n",
       "2012-01-01 04:00:00                          79.0                      3.5   \n",
       "\n",
       "                                                   \\\n",
       "                    Average Station Pressure (mb)   \n",
       "Date/Time (GMT)                                     \n",
       "2012-01-01 00:00:00                   1015.900024   \n",
       "2012-01-01 01:00:00                   1016.299988   \n",
       "2012-01-01 02:00:00                   1017.299988   \n",
       "2012-01-01 03:00:00                   1017.900024   \n",
       "2012-01-01 04:00:00                   1018.299988   \n",
       "\n",
       "                                                             ...               \\\n",
       "                    Average Wind Direction (deg)             ...                \n",
       "Date/Time (GMT)                                              ...                \n",
       "2012-01-01 00:00:00                        270.0             ...                \n",
       "2012-01-01 01:00:00                        300.0             ...                \n",
       "2012-01-01 02:00:00                        280.0             ...                \n",
       "2012-01-01 03:00:00                        260.0             ...                \n",
       "2012-01-01 04:00:00                        240.0             ...                \n",
       "\n",
       "                                klns                                \\\n",
       "                    Average Temp (F) Average Relative Humidity (%)   \n",
       "Date/Time (GMT)                                                      \n",
       "2012-01-01 00:00:00        46.900002                          71.0   \n",
       "2012-01-01 01:00:00        46.900002                          71.0   \n",
       "2012-01-01 02:00:00        46.000000                          71.0   \n",
       "2012-01-01 03:00:00        44.099998                          76.0   \n",
       "2012-01-01 04:00:00        39.000000                          82.0   \n",
       "\n",
       "                                                                            \\\n",
       "                    Average Wind Speed (mph) Average Station Pressure (mb)   \n",
       "Date/Time (GMT)                                                              \n",
       "2012-01-01 00:00:00                     11.5                   1017.299988   \n",
       "2012-01-01 01:00:00                      8.1                   1017.900024   \n",
       "2012-01-01 02:00:00                      6.9                   1018.299988   \n",
       "2012-01-01 03:00:00                      8.1                   1019.000000   \n",
       "2012-01-01 04:00:00                      0.0                   1019.299988   \n",
       "\n",
       "                                                             kttn  \\\n",
       "                    Average Wind Direction (deg) Average Temp (F)   \n",
       "Date/Time (GMT)                                                     \n",
       "2012-01-01 00:00:00                        290.0        50.000000   \n",
       "2012-01-01 01:00:00                        280.0        48.000000   \n",
       "2012-01-01 02:00:00                        280.0        48.000000   \n",
       "2012-01-01 03:00:00                        260.0        46.900002   \n",
       "2012-01-01 04:00:00                          0.0        46.000000   \n",
       "\n",
       "                                                                            \\\n",
       "                    Average Relative Humidity (%) Average Wind Speed (mph)   \n",
       "Date/Time (GMT)                                                              \n",
       "2012-01-01 00:00:00                          61.0                      6.9   \n",
       "2012-01-01 01:00:00                          66.0                      6.9   \n",
       "2012-01-01 02:00:00                          66.0                      6.9   \n",
       "2012-01-01 03:00:00                          68.0                      5.8   \n",
       "2012-01-01 04:00:00                          71.0                      8.1   \n",
       "\n",
       "                                                                                \n",
       "                    Average Station Pressure (mb) Average Wind Direction (deg)  \n",
       "Date/Time (GMT)                                                                 \n",
       "2012-01-01 00:00:00                   1015.599976                        290.0  \n",
       "2012-01-01 01:00:00                   1016.299988                        280.0  \n",
       "2012-01-01 02:00:00                   1016.900024                        300.0  \n",
       "2012-01-01 03:00:00                   1017.599976                        310.0  \n",
       "2012-01-01 04:00:00                   1017.900024                        320.0  \n",
       "\n",
       "[5 rows x 25 columns]"
      ]
     },
     "execution_count": 11,
     "metadata": {},
     "output_type": "execute_result"
    }
   ],
   "source": [
    "df_merge.head()"
   ]
  },
  {
   "cell_type": "code",
   "execution_count": 12,
   "metadata": {},
   "outputs": [],
   "source": [
    "target_city = 'kphl'"
   ]
  },
  {
   "cell_type": "code",
   "execution_count": 13,
   "metadata": {},
   "outputs": [],
   "source": [
    "target_names = ['Average Temp (F)']"
   ]
  },
  {
   "cell_type": "markdown",
   "metadata": {},
   "source": [
    "We want to predict the weather 24 hours into the future, so we shift the data 24 time-steps. If we want to predict the weather 7 days into the future, we shift the data 7*24 time-steps"
   ]
  },
  {
   "cell_type": "code",
   "execution_count": 14,
   "metadata": {},
   "outputs": [],
   "source": [
    "shift_days = 1\n",
    "shift_steps = shift_days * 24  # Number of hours."
   ]
  },
  {
   "cell_type": "markdown",
   "metadata": {},
   "source": [
    "# Negative time-shift (new data frame)"
   ]
  },
  {
   "cell_type": "markdown",
   "metadata": {},
   "source": [
    "Shift 24 hours so that the model can predict the temperature 24 hours after"
   ]
  },
  {
   "cell_type": "code",
   "execution_count": 15,
   "metadata": {},
   "outputs": [],
   "source": [
    "df_targets = df_merge[target_city][target_names].shift(-shift_steps)"
   ]
  },
  {
   "cell_type": "code",
   "execution_count": 16,
   "metadata": {},
   "outputs": [
    {
     "data": {
      "text/html": [
       "<div>\n",
       "<style scoped>\n",
       "    .dataframe tbody tr th:only-of-type {\n",
       "        vertical-align: middle;\n",
       "    }\n",
       "\n",
       "    .dataframe tbody tr th {\n",
       "        vertical-align: top;\n",
       "    }\n",
       "\n",
       "    .dataframe thead th {\n",
       "        text-align: right;\n",
       "    }\n",
       "</style>\n",
       "<table border=\"1\" class=\"dataframe\">\n",
       "  <thead>\n",
       "    <tr style=\"text-align: right;\">\n",
       "      <th></th>\n",
       "      <th>Average Temp (F)</th>\n",
       "    </tr>\n",
       "    <tr>\n",
       "      <th>Date/Time (GMT)</th>\n",
       "      <th></th>\n",
       "    </tr>\n",
       "  </thead>\n",
       "  <tbody>\n",
       "    <tr>\n",
       "      <th>2012-01-01 00:00:00</th>\n",
       "      <td>51.099998</td>\n",
       "    </tr>\n",
       "    <tr>\n",
       "      <th>2012-01-01 01:00:00</th>\n",
       "      <td>52.000000</td>\n",
       "    </tr>\n",
       "    <tr>\n",
       "      <th>2012-01-01 02:00:00</th>\n",
       "      <td>50.000000</td>\n",
       "    </tr>\n",
       "    <tr>\n",
       "      <th>2012-01-01 03:00:00</th>\n",
       "      <td>52.000000</td>\n",
       "    </tr>\n",
       "    <tr>\n",
       "      <th>2012-01-01 04:00:00</th>\n",
       "      <td>50.000000</td>\n",
       "    </tr>\n",
       "  </tbody>\n",
       "</table>\n",
       "</div>"
      ],
      "text/plain": [
       "                     Average Temp (F)\n",
       "Date/Time (GMT)                      \n",
       "2012-01-01 00:00:00         51.099998\n",
       "2012-01-01 01:00:00         52.000000\n",
       "2012-01-01 02:00:00         50.000000\n",
       "2012-01-01 03:00:00         52.000000\n",
       "2012-01-01 04:00:00         50.000000"
      ]
     },
     "execution_count": 16,
     "metadata": {},
     "output_type": "execute_result"
    }
   ],
   "source": [
    "df_targets.head(5)"
   ]
  },
  {
   "cell_type": "markdown",
   "metadata": {},
   "source": [
    "Since we moved the data, last 24 hours are NaN values"
   ]
  },
  {
   "cell_type": "code",
   "execution_count": 17,
   "metadata": {},
   "outputs": [
    {
     "data": {
      "text/html": [
       "<div>\n",
       "<style scoped>\n",
       "    .dataframe tbody tr th:only-of-type {\n",
       "        vertical-align: middle;\n",
       "    }\n",
       "\n",
       "    .dataframe tbody tr th {\n",
       "        vertical-align: top;\n",
       "    }\n",
       "\n",
       "    .dataframe thead th {\n",
       "        text-align: right;\n",
       "    }\n",
       "</style>\n",
       "<table border=\"1\" class=\"dataframe\">\n",
       "  <thead>\n",
       "    <tr style=\"text-align: right;\">\n",
       "      <th></th>\n",
       "      <th>Average Temp (F)</th>\n",
       "    </tr>\n",
       "    <tr>\n",
       "      <th>Date/Time (GMT)</th>\n",
       "      <th></th>\n",
       "    </tr>\n",
       "  </thead>\n",
       "  <tbody>\n",
       "    <tr>\n",
       "      <th>2019-01-01 19:00:00</th>\n",
       "      <td>NaN</td>\n",
       "    </tr>\n",
       "    <tr>\n",
       "      <th>2019-01-01 20:00:00</th>\n",
       "      <td>NaN</td>\n",
       "    </tr>\n",
       "    <tr>\n",
       "      <th>2019-01-01 21:00:00</th>\n",
       "      <td>NaN</td>\n",
       "    </tr>\n",
       "    <tr>\n",
       "      <th>2019-01-01 22:00:00</th>\n",
       "      <td>NaN</td>\n",
       "    </tr>\n",
       "    <tr>\n",
       "      <th>2019-01-01 23:00:00</th>\n",
       "      <td>NaN</td>\n",
       "    </tr>\n",
       "  </tbody>\n",
       "</table>\n",
       "</div>"
      ],
      "text/plain": [
       "                     Average Temp (F)\n",
       "Date/Time (GMT)                      \n",
       "2019-01-01 19:00:00               NaN\n",
       "2019-01-01 20:00:00               NaN\n",
       "2019-01-01 21:00:00               NaN\n",
       "2019-01-01 22:00:00               NaN\n",
       "2019-01-01 23:00:00               NaN"
      ]
     },
     "execution_count": 17,
     "metadata": {},
     "output_type": "execute_result"
    }
   ],
   "source": [
    "df_targets.tail()"
   ]
  },
  {
   "cell_type": "markdown",
   "metadata": {},
   "source": [
    "Numpy Arrays. We convert the data-frames to NumPy arrays that can be input to the neural network. We remove the last part of the numpy arrays, because the target-data has NaN for the shifted period."
   ]
  },
  {
   "cell_type": "code",
   "execution_count": 18,
   "metadata": {},
   "outputs": [],
   "source": [
    "x_data = df_merge.values[0:-shift_steps]"
   ]
  },
  {
   "cell_type": "code",
   "execution_count": 19,
   "metadata": {},
   "outputs": [
    {
     "name": "stdout",
     "output_type": "stream",
     "text": [
      "<class 'numpy.ndarray'>\n",
      "Shape: (61368, 25)\n"
     ]
    }
   ],
   "source": [
    "print(type(x_data))\n",
    "print(\"Shape:\", x_data.shape)"
   ]
  },
  {
   "cell_type": "markdown",
   "metadata": {},
   "source": [
    "These are the output-signals (or target-signals):"
   ]
  },
  {
   "cell_type": "code",
   "execution_count": 20,
   "metadata": {},
   "outputs": [],
   "source": [
    "y_data = df_targets.values[:-shift_steps]"
   ]
  },
  {
   "cell_type": "code",
   "execution_count": 21,
   "metadata": {},
   "outputs": [
    {
     "name": "stdout",
     "output_type": "stream",
     "text": [
      "<class 'numpy.ndarray'>\n",
      "Shape: (61368, 1)\n"
     ]
    }
   ],
   "source": [
    "print(type(y_data))\n",
    "print(\"Shape:\", y_data.shape)"
   ]
  },
  {
   "cell_type": "markdown",
   "metadata": {},
   "source": [
    "This is the fraction of the data-set that will be used for the training-set:"
   ]
  },
  {
   "cell_type": "code",
   "execution_count": 22,
   "metadata": {},
   "outputs": [
    {
     "name": "stdout",
     "output_type": "stream",
     "text": [
      "Number of train is 55231\n",
      "Number of test is 6137\n"
     ]
    }
   ],
   "source": [
    "train_split = 0.9\n",
    "num_data = len(x_data)\n",
    "\n",
    "num_train = int(train_split * num_data)\n",
    "print(\"Number of train is {}\".format(num_train))\n",
    "\n",
    "num_test = num_data - num_train\n",
    "print(\"Number of test is {}\".format(num_test))"
   ]
  },
  {
   "cell_type": "code",
   "execution_count": 23,
   "metadata": {},
   "outputs": [],
   "source": [
    "x_train = x_data[0:num_train]\n",
    "x_test = x_data[num_train:]\n",
    "\n",
    "\n",
    "y_train = y_data[0:num_train]\n",
    "y_test = y_data[num_train:]"
   ]
  },
  {
   "cell_type": "code",
   "execution_count": 24,
   "metadata": {},
   "outputs": [
    {
     "data": {
      "text/plain": [
       "25"
      ]
     },
     "execution_count": 24,
     "metadata": {},
     "output_type": "execute_result"
    }
   ],
   "source": [
    "num_x_signals = x_data.shape[1]\n",
    "num_x_signals"
   ]
  },
  {
   "cell_type": "code",
   "execution_count": 25,
   "metadata": {},
   "outputs": [
    {
     "data": {
      "text/plain": [
       "1"
      ]
     },
     "execution_count": 25,
     "metadata": {},
     "output_type": "execute_result"
    }
   ],
   "source": [
    "num_y_signals = y_data.shape[1]\n",
    "num_y_signals"
   ]
  },
  {
   "cell_type": "markdown",
   "metadata": {},
   "source": [
    "# Scaled Data"
   ]
  },
  {
   "cell_type": "code",
   "execution_count": 26,
   "metadata": {},
   "outputs": [],
   "source": [
    "x_scaler = MinMaxScaler()\n",
    "x_train = np.nan_to_num(x_train)\n",
    "x_test = np.nan_to_num(x_test)\n",
    "\n",
    "x_train_scaled = x_scaler.fit_transform(x_train)\n",
    "x_test_scaled = x_scaler.transform(x_test)"
   ]
  },
  {
   "cell_type": "code",
   "execution_count": 27,
   "metadata": {},
   "outputs": [
    {
     "name": "stdout",
     "output_type": "stream",
     "text": [
      "Before scaling\n",
      "Min: -7.1\n",
      "Max: 1045.0\n",
      "\n",
      "After scaling\n",
      "Min: 0.0\n",
      "Max: 1.0000001\n"
     ]
    }
   ],
   "source": [
    "print(\"Before scaling\")\n",
    "print(\"Min:\", np.min(x_train))\n",
    "print(\"Max:\", np.max(x_train))\n",
    "print(\"\\nAfter scaling\")\n",
    "print(\"Min:\", np.min(x_train_scaled))\n",
    "print(\"Max:\", np.max(x_train_scaled))"
   ]
  },
  {
   "cell_type": "code",
   "execution_count": 28,
   "metadata": {},
   "outputs": [],
   "source": [
    "y_scaler = MinMaxScaler()\n",
    "\n",
    "y_train = np.nan_to_num(y_train)\n",
    "y_test = np.nan_to_num(y_test)\n",
    "\n",
    "y_train_scaled = y_scaler.fit_transform(y_train)\n",
    "y_test_scaled = y_scaler.transform(y_test)"
   ]
  },
  {
   "cell_type": "markdown",
   "metadata": {},
   "source": [
    "# Data Generator"
   ]
  },
  {
   "cell_type": "code",
   "execution_count": 29,
   "metadata": {},
   "outputs": [
    {
     "name": "stdout",
     "output_type": "stream",
     "text": [
      "(55231, 25)\n",
      "(55231, 1)\n"
     ]
    }
   ],
   "source": [
    "print(x_train_scaled.shape)\n",
    "print(y_train_scaled.shape)"
   ]
  },
  {
   "cell_type": "markdown",
   "metadata": {},
   "source": [
    "Instead of training the Recurrent Neural Network on the complete sequences of almost 60K observations, we will use the following function to create a batch of shorter sub-sequences picked at random from the training data."
   ]
  },
  {
   "cell_type": "code",
   "execution_count": 30,
   "metadata": {},
   "outputs": [],
   "source": [
    "def batch_generator(batch_size, sequence_length):\n",
    "    \"\"\"\n",
    "    Generator function for creating random batches of training-data.\n",
    "    \"\"\"\n",
    "\n",
    "    # Infinite loop.\n",
    "    while True:\n",
    "        # Allocate a new array for the batch of input-signals.\n",
    "        x_shape = (batch_size, sequence_length, num_x_signals)\n",
    "        x_batch = np.zeros(shape=x_shape, dtype=np.float16)\n",
    "\n",
    "        # Allocate a new array for the batch of output-signals.\n",
    "        y_shape = (batch_size, sequence_length, num_y_signals)\n",
    "        y_batch = np.zeros(shape=y_shape, dtype=np.float16)\n",
    "\n",
    "        # Fill the batch with random sequences of data.\n",
    "        for i in range(batch_size):\n",
    "            # Get a random start-index.\n",
    "            # This points somewhere into the training-data.\n",
    "            idx = np.random.randint(num_train - sequence_length)\n",
    "            \n",
    "            # Copy the sequences of data starting at this index.\n",
    "            x_batch[i] = x_train_scaled[idx:idx+sequence_length]\n",
    "            y_batch[i] = y_train_scaled[idx:idx+sequence_length]\n",
    "        \n",
    "        yield (x_batch, y_batch)"
   ]
  },
  {
   "cell_type": "markdown",
   "metadata": {},
   "source": [
    "We will use a large batch size so as to keep the GPU near 100% work-load."
   ]
  },
  {
   "cell_type": "code",
   "execution_count": 31,
   "metadata": {},
   "outputs": [],
   "source": [
    "batch_size = 256"
   ]
  },
  {
   "cell_type": "markdown",
   "metadata": {},
   "source": [
    "We will use a sequence-length of 1344, which means that each random sequency contains observations for 8 weeks. One time-step corresponds to one hour, so 24*7 time steps corresponds to a week, and 24*7*8 corresponds to 8 weeks."
   ]
  },
  {
   "cell_type": "code",
   "execution_count": 32,
   "metadata": {},
   "outputs": [
    {
     "data": {
      "text/plain": [
       "1344"
      ]
     },
     "execution_count": 32,
     "metadata": {},
     "output_type": "execute_result"
    }
   ],
   "source": [
    "sequence_length = 24 * 7 * 8\n",
    "sequence_length"
   ]
  },
  {
   "cell_type": "code",
   "execution_count": 33,
   "metadata": {},
   "outputs": [],
   "source": [
    "generator = batch_generator(batch_size=batch_size,\n",
    "                            sequence_length=sequence_length)"
   ]
  },
  {
   "cell_type": "code",
   "execution_count": 34,
   "metadata": {},
   "outputs": [],
   "source": [
    "x_batch, y_batch = next(generator)"
   ]
  },
  {
   "cell_type": "markdown",
   "metadata": {},
   "source": [
    "This gives us a random batch of 256 sequences, each sequence having 1344 obeservations, and each observation having 20 input signals and 1 output signal"
   ]
  },
  {
   "cell_type": "code",
   "execution_count": 35,
   "metadata": {},
   "outputs": [
    {
     "name": "stdout",
     "output_type": "stream",
     "text": [
      "(256, 1344, 25)\n",
      "(256, 1344, 1)\n"
     ]
    }
   ],
   "source": [
    "print(x_batch.shape)\n",
    "print(y_batch.shape)"
   ]
  },
  {
   "cell_type": "markdown",
   "metadata": {},
   "source": [
    "# Validation Set"
   ]
  },
  {
   "cell_type": "markdown",
   "metadata": {},
   "source": [
    "The neural network trains quickly so we can easily run many training epochs. But then there is a risk of overfitting the model to the training set so it does not generalize well to unseen data. We will therefore monitor the model's performance on the test-set after each eopch and only save the model's weights if the performance is improved on the test-set.\n",
    "\n",
    "The batch-generator randomly selects a batch of short sequences from the training-data and uses that during training. But for the validation-data we will instead run through the entire sequence from the test-set and measure the predition accuracy on that entire sequence."
   ]
  },
  {
   "cell_type": "code",
   "execution_count": 38,
   "metadata": {},
   "outputs": [],
   "source": [
    "validation_data = (np.expand_dims(x_test_scaled, axis=0),\n",
    "                   np.expand_dims(y_test_scaled, axis=0))"
   ]
  },
  {
   "cell_type": "markdown",
   "metadata": {},
   "source": [
    "# Create the Recurrent Neural Network"
   ]
  },
  {
   "cell_type": "markdown",
   "metadata": {},
   "source": [
    "Build RNN. We will add Gated Recurrent Unit (GRU) to the network. This will have 512 outputs for each time step in the sequence. \n",
    "\n",
    "Note that because this is the first layer in the model, Keras needs to know the shape of the input, which is a batch of sequences of arbitrary length, where each observation has a number of input signals."
   ]
  },
  {
   "cell_type": "code",
   "execution_count": 39,
   "metadata": {},
   "outputs": [],
   "source": [
    "model = Sequential()"
   ]
  },
  {
   "cell_type": "code",
   "execution_count": 40,
   "metadata": {},
   "outputs": [],
   "source": [
    "model.add(GRU(units=512,\n",
    "              return_sequences=True,\n",
    "              input_shape=(None, num_x_signals,)))\n",
    "model.add(Dense(num_y_signals, activation='sigmoid'))\n"
   ]
  },
  {
   "cell_type": "code",
   "execution_count": 41,
   "metadata": {},
   "outputs": [],
   "source": [
    "if False:\n",
    "    from keras.initializers import RandomUniform\n",
    "\n",
    "    # Maybe use lower init-ranges.\n",
    "    init = RandomUniform(minval=-0.05, maxval=0.05)\n",
    "\n",
    "    model.add(Dense(num_y_signals,\n",
    "                    activation='linear',\n",
    "                    kernel_initializer=init))"
   ]
  },
  {
   "cell_type": "markdown",
   "metadata": {},
   "source": [
    "# Loss function (MSE)"
   ]
  },
  {
   "cell_type": "markdown",
   "metadata": {},
   "source": [
    "At the beginning of a sequence, the model's accuracy will be pretty low, so we give the model a 'warmup-period' of 50 time steps where we dont use its accuracyin the loss-function, in hope of improving the accuracy for later-timesteps."
   ]
  },
  {
   "cell_type": "code",
   "execution_count": 42,
   "metadata": {},
   "outputs": [],
   "source": [
    "warmup_steps = 50"
   ]
  },
  {
   "cell_type": "code",
   "execution_count": 43,
   "metadata": {},
   "outputs": [],
   "source": [
    "def loss_mse_warmup(y_true, y_pred):\n",
    "    \"\"\"\n",
    "    Calculate the Mean Squared Error between y_true and y_pred,\n",
    "    but ignore the beginning \"warmup\" part of the sequences.\n",
    "    \n",
    "    y_true is the desired output.\n",
    "    y_pred is the model's output.\n",
    "    \"\"\"\n",
    "\n",
    "    # The shape of both input tensors are:\n",
    "    # [batch_size, sequence_length, num_y_signals].\n",
    "\n",
    "    # Ignore the \"warmup\" parts of the sequences\n",
    "    # by taking slices of the tensors.\n",
    "    y_true_slice = y_true[:, warmup_steps:, :]\n",
    "    y_pred_slice = y_pred[:, warmup_steps:, :]\n",
    "\n",
    "    # These sliced tensors both have this shape:\n",
    "    # [batch_size, sequence_length - warmup_steps, num_y_signals]\n",
    "\n",
    "    # Calculate the MSE loss for each value in these tensors.\n",
    "    # This outputs a 3-rank tensor of the same shape.\n",
    "    loss = tf.losses.mean_squared_error(labels=y_true_slice,\n",
    "                                        predictions=y_pred_slice)\n",
    "\n",
    "    # Keras may reduce this across the first axis (the batch)\n",
    "    # but the semantics are unclear, so to be sure we use\n",
    "    # the loss across the entire tensor, we reduce it to a\n",
    "    # single scalar with the mean function.\n",
    "    loss_mean = tf.reduce_mean(loss)\n",
    "\n",
    "    return loss_mean"
   ]
  },
  {
   "cell_type": "markdown",
   "metadata": {},
   "source": [
    "# Compile Model"
   ]
  },
  {
   "cell_type": "code",
   "execution_count": 44,
   "metadata": {},
   "outputs": [],
   "source": [
    "model.compile(loss=loss_mse_warmup, optimizer='RMSprop')"
   ]
  },
  {
   "cell_type": "code",
   "execution_count": 45,
   "metadata": {},
   "outputs": [
    {
     "name": "stdout",
     "output_type": "stream",
     "text": [
      "_________________________________________________________________\n",
      "Layer (type)                 Output Shape              Param #   \n",
      "=================================================================\n",
      "gru_1 (GRU)                  (None, None, 512)         826368    \n",
      "_________________________________________________________________\n",
      "dense_1 (Dense)              (None, None, 1)           513       \n",
      "=================================================================\n",
      "Total params: 826,881\n",
      "Trainable params: 826,881\n",
      "Non-trainable params: 0\n",
      "_________________________________________________________________\n"
     ]
    }
   ],
   "source": [
    "model.summary()"
   ]
  },
  {
   "cell_type": "markdown",
   "metadata": {},
   "source": [
    "# Callback functions"
   ]
  },
  {
   "cell_type": "code",
   "execution_count": 46,
   "metadata": {},
   "outputs": [],
   "source": [
    "path_checkpoint = 'fivevariables.keras'\n",
    "callback_checkpoint = ModelCheckpoint(filepath=path_checkpoint,\n",
    "                                      monitor='val_loss',\n",
    "                                      verbose=1,\n",
    "                                      save_weights_only=True,\n",
    "                                      save_best_only=True)"
   ]
  },
  {
   "cell_type": "code",
   "execution_count": 47,
   "metadata": {},
   "outputs": [],
   "source": [
    "callback_early_stopping = EarlyStopping(monitor='val_loss',\n",
    "                                        patience=5, verbose=1)"
   ]
  },
  {
   "cell_type": "code",
   "execution_count": 48,
   "metadata": {},
   "outputs": [],
   "source": [
    "callback_reduce_lr = ReduceLROnPlateau(monitor='val_loss',\n",
    "                                       factor=0.1,\n",
    "                                       min_lr=1e-4,\n",
    "                                       patience=0,\n",
    "                                       verbose=1)"
   ]
  },
  {
   "cell_type": "code",
   "execution_count": 49,
   "metadata": {},
   "outputs": [],
   "source": [
    "callbacks = [callback_early_stopping,\n",
    "             callback_checkpoint,\n",
    "             callback_tensorboard,\n",
    "             callback_reduce_lr]"
   ]
  },
  {
   "cell_type": "markdown",
   "metadata": {},
   "source": [
    "# Train the model"
   ]
  },
  {
   "cell_type": "code",
   "execution_count": 50,
   "metadata": {},
   "outputs": [
    {
     "name": "stdout",
     "output_type": "stream",
     "text": [
      "Epoch 1/20\n",
      "100/100 [==============================] - 133s 1s/step - loss: 0.0141 - val_loss: 0.0077\n",
      "Epoch 2/20\n",
      "100/100 [==============================] - 130s 1s/step - loss: 0.0071 - val_loss: 0.0047\n",
      "Epoch 3/20\n",
      "100/100 [==============================] - 130s 1s/step - loss: 0.0060 - val_loss: 0.0045\n",
      "Epoch 4/20\n",
      "100/100 [==============================] - 129s 1s/step - loss: 0.0054 - val_loss: 0.0050\n",
      "\n",
      "Epoch 00004: ReduceLROnPlateau reducing learning rate to 0.00010000000474974513.\n",
      "Epoch 5/20\n",
      "100/100 [==============================] - 130s 1s/step - loss: 0.0039 - val_loss: 0.0034\n",
      "Epoch 6/20\n",
      "100/100 [==============================] - 129s 1s/step - loss: 0.0036 - val_loss: 0.0035\n",
      "\n",
      "Epoch 00006: ReduceLROnPlateau reducing learning rate to 0.0001.\n",
      "Epoch 7/20\n",
      "100/100 [==============================] - 129s 1s/step - loss: 0.0035 - val_loss: 0.0034\n",
      "Epoch 8/20\n",
      "100/100 [==============================] - 129s 1s/step - loss: 0.0034 - val_loss: 0.0034\n",
      "Epoch 9/20\n",
      "100/100 [==============================] - 129s 1s/step - loss: 0.0033 - val_loss: 0.0034\n",
      "Epoch 10/20\n",
      "100/100 [==============================] - 129s 1s/step - loss: 0.0032 - val_loss: 0.0036\n",
      "Epoch 11/20\n",
      "100/100 [==============================] - 129s 1s/step - loss: 0.0031 - val_loss: 0.0035\n",
      "Epoch 12/20\n",
      "100/100 [==============================] - 129s 1s/step - loss: 0.0031 - val_loss: 0.0036\n",
      "Epoch 00012: early stopping\n"
     ]
    },
    {
     "data": {
      "text/plain": [
       "<keras.callbacks.History at 0x2aab4f92e780>"
      ]
     },
     "execution_count": 50,
     "metadata": {},
     "output_type": "execute_result"
    }
   ],
   "source": [
    "model.fit_generator(generator=generator,\n",
    "                    epochs=20,\n",
    "                    steps_per_epoch=100,\n",
    "                    validation_data=validation_data,\n",
    "                    callbacks = callbacks)"
   ]
  },
  {
   "cell_type": "code",
   "execution_count": 51,
   "metadata": {},
   "outputs": [
    {
     "name": "stdout",
     "output_type": "stream",
     "text": [
      "Error trying to load checkpoint.\n",
      "Unable to open file (unable to open file: name = 'fivevariables.keras', errno = 2, error message = 'No such file or directory', flags = 0, o_flags = 0)\n"
     ]
    }
   ],
   "source": [
    "try:\n",
    "    model.load_weights(path_checkpoint)\n",
    "except Exception as error:\n",
    "    print(\"Error trying to load checkpoint.\")\n",
    "    print(error)"
   ]
  },
  {
   "cell_type": "code",
   "execution_count": 52,
   "metadata": {},
   "outputs": [
    {
     "name": "stdout",
     "output_type": "stream",
     "text": [
      "1/1 [==============================] - 1s 884ms/step\n"
     ]
    }
   ],
   "source": [
    "result = model.evaluate(x=np.expand_dims(x_test_scaled, axis=0),\n",
    "                        y=np.expand_dims(y_test_scaled, axis=0))"
   ]
  },
  {
   "cell_type": "code",
   "execution_count": 53,
   "metadata": {},
   "outputs": [
    {
     "name": "stdout",
     "output_type": "stream",
     "text": [
      "loss (test-set): 0.0035955330822616816\n"
     ]
    }
   ],
   "source": [
    "print(\"loss (test-set):\", result)"
   ]
  },
  {
   "cell_type": "code",
   "execution_count": 54,
   "metadata": {},
   "outputs": [],
   "source": [
    "# If you have several metrics you can use this instead.\n",
    "if False:\n",
    "    for res, metric in zip(result, model.metrics_names):\n",
    "        print(\"{0}: {1:.3e}\".format(metric, res))"
   ]
  },
  {
   "cell_type": "code",
   "execution_count": 55,
   "metadata": {},
   "outputs": [],
   "source": [
    "def plot_comparison(start_idx, length=100, train=True):\n",
    "    \"\"\"\n",
    "    Plot the predicted and true output-signals.\n",
    "    \n",
    "    :param start_idx: Start-index for the time-series.\n",
    "    :param length: Sequence-length to process and plot.\n",
    "    :param train: Boolean whether to use training- or test-set.\n",
    "    \"\"\"\n",
    "    \n",
    "    if train:\n",
    "        # Use training-data.\n",
    "        x = x_train_scaled\n",
    "        y_true = y_train\n",
    "    else:\n",
    "        # Use test-data.\n",
    "        x = x_test_scaled\n",
    "        y_true = y_test\n",
    "    \n",
    "    # End-index for the sequences.\n",
    "    end_idx = start_idx + length\n",
    "    \n",
    "    # Select the sequences from the given start-index and\n",
    "    # of the given length.\n",
    "    x = x[start_idx:end_idx]\n",
    "    y_true = y_true[start_idx:end_idx]\n",
    "    \n",
    "    # Input-signals for the model.\n",
    "    x = np.expand_dims(x, axis=0)\n",
    "\n",
    "    # Use the model to predict the output-signals.\n",
    "    y_pred = model.predict(x)\n",
    "    \n",
    "    # The output of the model is between 0 and 1.\n",
    "    # Do an inverse map to get it back to the scale\n",
    "    # of the original data-set.\n",
    "    y_pred_rescaled = y_scaler.inverse_transform(y_pred[0])\n",
    "    \n",
    "    # For each output-signal.\n",
    "    for signal in range(len(target_names)):\n",
    "        # Get the output-signal predicted by the model.\n",
    "        signal_pred = y_pred_rescaled[:, signal]\n",
    "        \n",
    "        # Get the true output-signal from the data-set.\n",
    "        signal_true = y_true[:, signal]\n",
    "\n",
    "        # Make the plotting-canvas bigger.\n",
    "        plt.figure(figsize=(15,5))\n",
    "        \n",
    "        # Plot and compare the two signals.\n",
    "        plt.plot(signal_true, label='true')\n",
    "        plt.plot(signal_pred, label='pred')\n",
    "        \n",
    "        # Plot grey box for warmup-period.\n",
    "        p = plt.axvspan(0, warmup_steps, facecolor='black', alpha=0.15)\n",
    "        \n",
    "        # Plot labels etc.\n",
    "        plt.ylabel(target_names[signal])\n",
    "        plt.legend()\n",
    "        plt.show()"
   ]
  },
  {
   "cell_type": "code",
   "execution_count": 56,
   "metadata": {},
   "outputs": [],
   "source": [
    "x = x_train_scaled\n",
    "y_true = y_train"
   ]
  },
  {
   "cell_type": "code",
   "execution_count": 57,
   "metadata": {},
   "outputs": [],
   "source": [
    "end_idx = 10000 + 1000\n",
    "start_idx=10000"
   ]
  },
  {
   "cell_type": "code",
   "execution_count": 58,
   "metadata": {},
   "outputs": [],
   "source": [
    "x = x[start_idx:end_idx]\n",
    "y_true = y_true[start_idx:end_idx]"
   ]
  },
  {
   "cell_type": "code",
   "execution_count": 59,
   "metadata": {},
   "outputs": [
    {
     "data": {
      "image/png": "[encoded data removed]",
      "text/plain": [
       "<Figure size 1080x360 with 1 Axes>"
      ]
     },
     "metadata": {},
     "output_type": "display_data"
    }
   ],
   "source": [
    "plot_comparison(start_idx=10000, length=1000, train=True)"
   ]
  },
  {
   "cell_type": "code",
   "execution_count": 60,
   "metadata": {},
   "outputs": [
    {
     "data": {
      "image/png": "[encoded data removed]",
      "text/plain": [
       "<Figure size 1080x360 with 1 Axes>"
      ]
     },
     "metadata": {},
     "output_type": "display_data"
    }
   ],
   "source": [
    "plot_comparison(start_idx=200, length=1000, train=False)\n"
   ]
  }
 ],
 "metadata": {
  "kernelspec": {
   "display_name": "Python 3",
   "language": "python",
   "name": "python3"
  },
  "language_info": {
   "codemirror_mode": {
    "name": "ipython",
    "version": 3
   },
   "file_extension": ".py",
   "mimetype": "text/x-python",
   "name": "python",
   "nbconvert_exporter": "python",
   "pygments_lexer": "ipython3",
   "version": "3.6.8"
  }
 },
 "nbformat": 4,
 "nbformat_minor": 2
}
