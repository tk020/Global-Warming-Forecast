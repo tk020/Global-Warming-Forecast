{
 "cells": [
  {
   "cell_type": "code",
   "execution_count": 1,
   "metadata": {},
   "outputs": [],
   "source": [
    "import numpy as np\n",
    "import pandas as pd\n",
    "import matplotlib.pyplot as plt\n",
    "import seaborn as sns\n",
    "import os\n",
    "\n",
    "os.environ[\"KMP_DUPLICATE_LIB_OK\"]=\"True\""
   ]
  },
  {
   "cell_type": "code",
   "execution_count": 2,
   "metadata": {},
   "outputs": [],
   "source": [
    "def process_FAA_hourly_data(filename):\n",
    "    path = os.getcwd()\n",
    "    pathfile = os.path.join(path,\"data\",filename)\n",
    "    df_temps = pd.read_csv(pathfile, skiprows=16)\n",
    "    df_temps = df_temps.iloc[:,:-1]\n",
    "    df_temps = df_temps.loc[df_temps[df_temps.columns[0]] != df_temps.columns[0]]\n",
    "    df_temps[df_temps.columns[1]] = df_temps[df_temps.columns[1]].apply(pd.to_numeric, downcast = \"integer\")\n",
    "    df_temps[df_temps.columns[2:]] = df_temps[df_temps.columns[2:]].apply(pd.to_numeric, downcast = \"float\")\n",
    "    df_temps = df_temps.set_index(pd.DatetimeIndex(df_temps[df_temps.columns[0]]))\n",
    "    df_temps = df_temps.drop([df_temps.columns[0]], axis=1)\n",
    "    return df_temps"
   ]
  },
  {
   "cell_type": "code",
   "execution_count": 3,
   "metadata": {},
   "outputs": [],
   "source": [
    "df_kphl = process_FAA_hourly_data(\"faa_hourly-KPHL_20120101-20190101.csv\")\n"
   ]
  },
  {
   "cell_type": "code",
   "execution_count": 4,
   "metadata": {},
   "outputs": [],
   "source": [
    "df_kphl_useful = df_kphl.iloc[:,[1,7,8,9]]\n",
    "df_kphl_temp = df_kphl.iloc[:,1]"
   ]
  },
  {
   "cell_type": "code",
   "execution_count": 5,
   "metadata": {},
   "outputs": [],
   "source": [
    "#df_kphl_useful contains four different variables\n",
    "start = df_kphl_useful.index[0]\n",
    "end = df_kphl_useful.index[-1]\n",
    "idx = pd.date_range(start, end, freq='H')\n",
    "\n",
    "df_kphl_useful = df_kphl_useful.reindex(idx, fill_value = np.nan)\n"
   ]
  },
  {
   "cell_type": "code",
   "execution_count": 6,
   "metadata": {},
   "outputs": [],
   "source": [
    "#df_kphl_temp contains only temperature data\n",
    "start = df_kphl_temp.index[0]\n",
    "end = df_kphl_temp.index[-1]\n",
    "idx = pd.date_range(start, end, freq='H')\n",
    "\n",
    "df_kphl_temp = df_kphl_temp.reindex(idx, fill_value = np.nan)\n"
   ]
  },
  {
   "cell_type": "code",
   "execution_count": 7,
   "metadata": {},
   "outputs": [
    {
     "name": "stdout",
     "output_type": "stream",
     "text": [
      "Start day four variables is 2012-01-01 00:00:00\n",
      "End day four variables is 2019-01-01 23:00:00\n",
      "\n",
      "\n",
      "\n",
      "Start day for temperature is 2012-01-01 00:00:00\n",
      "End day for temperature is 2019-01-01 23:00:00\n"
     ]
    }
   ],
   "source": [
    "print(\"Start day four variables is {}\".format(df_kphl_useful.index[0]))\n",
    "print(\"End day four variables is {}\".format(df_kphl_useful.index[-1]))\n",
    "print(\"\\n\\n\")\n",
    "print(\"Start day for temperature is {}\".format(df_kphl_useful.index[0]))\n",
    "print(\"End day for temperature is {}\".format(df_kphl_useful.index[-1]))"
   ]
  },
  {
   "cell_type": "code",
   "execution_count": 8,
   "metadata": {},
   "outputs": [],
   "source": [
    "temp = np.array(df_kphl_temp)\n",
    "temp = temp.reshape(-1,1)"
   ]
  },
  {
   "cell_type": "code",
   "execution_count": 9,
   "metadata": {},
   "outputs": [
    {
     "name": "stderr",
     "output_type": "stream",
     "text": [
      "Using TensorFlow backend.\n"
     ]
    }
   ],
   "source": [
    "#Stacked auto encoder\n",
    "from keras.layers import *\n",
    "from keras.models import Model, Sequential\n",
    "from keras.layers import Input, LSTM, RepeatVector"
   ]
  },
  {
   "cell_type": "code",
   "execution_count": 10,
   "metadata": {},
   "outputs": [
    {
     "name": "stdout",
     "output_type": "stream",
     "text": [
      "51390 10002\n"
     ]
    }
   ],
   "source": [
    "# split into train and test sets (67% of them are for train data)\n",
    "\n",
    "temp = np.nan_to_num(temp)\n",
    "train, test = temp[0:(1713*30),:], temp[(1713*30):len(temp),:]\n",
    "print(len(train), len(test))\n"
   ]
  },
  {
   "cell_type": "code",
   "execution_count": 11,
   "metadata": {},
   "outputs": [],
   "source": [
    "#Get Only temperature data\n",
    "def create_datasettemp(dataset, look_back=25):\n",
    "    data = []\n",
    "    for i in range(len(dataset)-look_back-1):\n",
    "        a = dataset[i:(i+look_back), 0].flatten()\n",
    "        data.append(a)\n",
    "    return np.array(data)\n",
    "\n",
    "#Get all four variables\n",
    "def create_dataset(dataset, look_back=24):\n",
    "    dataX, dataY = [], []\n",
    "    for i in range(len(dataset)-look_back-1):\n",
    "        a = dataset[i:(i+look_back), :].flatten()\n",
    "        dataX.append(a)\n",
    "        dataY.append(dataset[i + look_back, 0])\n",
    "    return np.array(dataX), np.array(dataY)"
   ]
  },
  {
   "cell_type": "code",
   "execution_count": 12,
   "metadata": {},
   "outputs": [
    {
     "data": {
      "text/plain": [
       "(51364, 25)"
      ]
     },
     "execution_count": 12,
     "metadata": {},
     "output_type": "execute_result"
    }
   ],
   "source": [
    "# reshape into X=t and Y=t+1\n",
    "look_back = 25\n",
    "traindata = create_datasettemp(train, look_back)\n",
    "testdata = create_datasettemp(test, look_back)\n",
    "\n",
    "\n",
    "traindata.shape\n"
   ]
  },
  {
   "cell_type": "code",
   "execution_count": 13,
   "metadata": {},
   "outputs": [],
   "source": [
    "trainX = traindata[:,0:-1]\n",
    "trainY = traindata[:,-1]\n",
    "\n",
    "testX = testdata[:,0:-1]\n",
    "testY = testdata[:,-1]"
   ]
  },
  {
   "cell_type": "code",
   "execution_count": 14,
   "metadata": {},
   "outputs": [
    {
     "name": "stdout",
     "output_type": "stream",
     "text": [
      "(51364, 1, 24) (9976, 1, 24) (51364,) (9976,)\n"
     ]
    }
   ],
   "source": [
    "# reshape input to be [samples, time steps, features]\n",
    "trainX = np.reshape(trainX, (trainX.shape[0], 1, trainX.shape[1]))\n",
    "testX = np.reshape(testX, (testX.shape[0], 1, testX.shape[1]))\n",
    "print(trainX.shape, testX.shape, trainY.shape, testY.shape)"
   ]
  },
  {
   "cell_type": "code",
   "execution_count": 15,
   "metadata": {},
   "outputs": [
    {
     "name": "stdout",
     "output_type": "stream",
     "text": [
      "Train on 51364 samples, validate on 9976 samples\n",
      "Epoch 1/50\n",
      " - 10s - loss: 48.3483 - val_loss: 36.6078\n",
      "Epoch 2/50\n",
      " - 6s - loss: 32.0421 - val_loss: 22.0945\n",
      "Epoch 3/50\n",
      " - 8s - loss: 20.7767 - val_loss: 16.6399\n",
      "Epoch 4/50\n",
      " - 12s - loss: 21.1133 - val_loss: 17.6813\n",
      "Epoch 5/50\n",
      " - 7s - loss: 19.9706 - val_loss: 17.0785\n",
      "Epoch 6/50\n",
      " - 7s - loss: 18.6675 - val_loss: 16.4342\n",
      "Epoch 7/50\n",
      " - 6s - loss: 19.6613 - val_loss: 16.7345\n",
      "Epoch 8/50\n",
      " - 5s - loss: 17.9522 - val_loss: 16.3411\n",
      "Epoch 9/50\n",
      " - 6s - loss: 16.6822 - val_loss: 16.2381\n",
      "Epoch 10/50\n",
      " - 7s - loss: 16.0891 - val_loss: 16.3868\n",
      "Epoch 11/50\n",
      " - 7s - loss: 16.7944 - val_loss: 16.2347\n",
      "Epoch 12/50\n",
      " - 6s - loss: 16.3841 - val_loss: 16.3732\n",
      "Epoch 13/50\n",
      " - 5s - loss: 16.7633 - val_loss: 16.2361\n",
      "Epoch 14/50\n",
      " - 6s - loss: 16.1065 - val_loss: 16.3776\n",
      "Epoch 15/50\n",
      " - 6s - loss: 15.9221 - val_loss: 16.5032\n",
      "Epoch 16/50\n",
      " - 6s - loss: 15.8011 - val_loss: 16.6423\n",
      "Epoch 17/50\n",
      " - 6s - loss: 15.7623 - val_loss: 16.7403\n",
      "Epoch 18/50\n",
      " - 6s - loss: 15.7517 - val_loss: 16.8046\n",
      "Epoch 19/50\n",
      " - 7s - loss: 15.7530 - val_loss: 16.8521\n",
      "Epoch 20/50\n",
      " - 6s - loss: 16.6370 - val_loss: 16.2417\n",
      "Epoch 21/50\n",
      " - 7s - loss: 16.1068 - val_loss: 16.3759\n",
      "Epoch 22/50\n",
      " - 6s - loss: 15.8746 - val_loss: 16.5399\n",
      "Epoch 23/50\n",
      " - 6s - loss: 15.7869 - val_loss: 16.6692\n",
      "Epoch 24/50\n",
      " - 6s - loss: 15.7598 - val_loss: 16.7515\n",
      "Epoch 25/50\n",
      " - 5s - loss: 15.7495 - val_loss: 16.8151\n",
      "Epoch 26/50\n",
      " - 5s - loss: 15.7501 - val_loss: 16.8520\n",
      "Epoch 27/50\n",
      " - 5s - loss: 15.7495 - val_loss: 16.8779\n",
      "Epoch 28/50\n",
      " - 5s - loss: 15.7487 - val_loss: 16.8958\n",
      "Epoch 29/50\n",
      " - 5s - loss: 15.7489 - val_loss: 16.9046\n",
      "Epoch 30/50\n",
      " - 6s - loss: 15.7490 - val_loss: 16.9065\n",
      "Epoch 31/50\n",
      " - 5s - loss: 15.7493 - val_loss: 16.9088\n",
      "Epoch 32/50\n",
      " - 5s - loss: 16.2282 - val_loss: 16.3168\n",
      "Epoch 33/50\n",
      " - 6s - loss: 15.9362 - val_loss: 16.4800\n",
      "Epoch 34/50\n",
      " - 6s - loss: 15.8115 - val_loss: 16.6237\n",
      "Epoch 35/50\n",
      " - 6s - loss: 15.7624 - val_loss: 16.7328\n",
      "Epoch 36/50\n",
      " - 6s - loss: 15.7508 - val_loss: 16.7973\n",
      "Epoch 37/50\n",
      " - 5s - loss: 15.7505 - val_loss: 16.8418\n",
      "Epoch 38/50\n",
      " - 5s - loss: 16.6757 - val_loss: 16.2270\n",
      "Epoch 39/50\n",
      " - 5s - loss: 16.1749 - val_loss: 16.3404\n",
      "Epoch 40/50\n",
      " - 5s - loss: 16.7178 - val_loss: 16.2258\n",
      "Epoch 41/50\n",
      " - 5s - loss: 16.2374 - val_loss: 16.3193\n",
      "Epoch 42/50\n",
      " - 5s - loss: 15.9289 - val_loss: 16.4830\n",
      "Epoch 43/50\n",
      " - 5s - loss: 15.8095 - val_loss: 16.6232\n",
      "Epoch 44/50\n",
      " - 5s - loss: 15.7615 - val_loss: 16.7284\n",
      "Epoch 45/50\n",
      " - 5s - loss: 15.7500 - val_loss: 16.7976\n",
      "Epoch 46/50\n",
      " - 6s - loss: 15.7494 - val_loss: 16.8375\n",
      "Epoch 47/50\n",
      " - 5s - loss: 15.7503 - val_loss: 16.8635\n",
      "Epoch 48/50\n",
      " - 5s - loss: 15.7479 - val_loss: 16.8855\n",
      "Epoch 49/50\n",
      " - 5s - loss: 15.7477 - val_loss: 16.8979\n",
      "Epoch 50/50\n",
      " - 5s - loss: 15.7480 - val_loss: 16.9023\n"
     ]
    }
   ],
   "source": [
    "#This is for temperature \n",
    "model = Sequential()\n",
    "model.add(LSTM(50, input_shape=(trainX.shape[1], trainX.shape[2])))\n",
    "model.add(Dense(1))\n",
    "model.compile(loss='mae', optimizer='adam')\n",
    "# fit network\n",
    "history = model.fit(trainX, trainY, epochs=50, batch_size=72, validation_data=(testX, testY), verbose=2, shuffle=False)"
   ]
  },
  {
   "cell_type": "code",
   "execution_count": 19,
   "metadata": {},
   "outputs": [
    {
     "data": {
      "text/plain": [
       "(51364,)"
      ]
     },
     "execution_count": 19,
     "metadata": {},
     "output_type": "execute_result"
    }
   ],
   "source": [
    "# make predictions\n",
    "trainPredict = model.predict(trainX)\n",
    "testPredict = model.predict(testX)\n",
    "\n"
   ]
  },
  {
   "cell_type": "code",
   "execution_count": 24,
   "metadata": {},
   "outputs": [
    {
     "name": "stdout",
     "output_type": "stream",
     "text": [
      "(9976,)\n",
      "(51364, 1)\n"
     ]
    },
    {
     "data": {
      "text/plain": [
       "(51364,)"
      ]
     },
     "execution_count": 24,
     "metadata": {},
     "output_type": "execute_result"
    }
   ],
   "source": [
    "print(testY.shape)\n",
    "print(trainPredict.shape)\n",
    "trainPredict[:,0].shape"
   ]
  },
  {
   "cell_type": "code",
   "execution_count": 25,
   "metadata": {},
   "outputs": [
    {
     "name": "stdout",
     "output_type": "stream",
     "text": [
      "Train Score for only temp: 18.68 RMSE\n",
      "Test Score for only temp: 19.70 RMSE\n"
     ]
    }
   ],
   "source": [
    "# calculate root mean squared error\n",
    "import math\n",
    "from sklearn.metrics import mean_squared_error\n",
    "\n",
    "trainScore = math.sqrt(mean_squared_error(trainY, trainPredict[:,0]))\n",
    "print('Train Score for only temp: %.2f RMSE' % (trainScore))\n",
    "testScore = math.sqrt(mean_squared_error(testY, testPredict[:,0]))\n",
    "print('Test Score for only temp: %.2f RMSE' % (testScore))\n"
   ]
  },
  {
   "cell_type": "code",
   "execution_count": 26,
   "metadata": {},
   "outputs": [
    {
     "data": {
      "image/png": "[encoded data removed]",
      "text/plain": [
       "<Figure size 432x288 with 1 Axes>"
      ]
     },
     "metadata": {
      "needs_background": "light"
     },
     "output_type": "display_data"
    }
   ],
   "source": [
    "plt.plot(history.history['loss'], label='train')\n",
    "plt.plot(history.history['val_loss'], label='test')\n",
    "plt.legend() \n",
    "plt.show()"
   ]
  },
  {
   "cell_type": "code",
   "execution_count": 28,
   "metadata": {},
   "outputs": [
    {
     "name": "stdout",
     "output_type": "stream",
     "text": [
      "51390 10002\n"
     ]
    }
   ],
   "source": [
    "# split into train and test sets (67% of them are for train data)\n",
    "useful = np.array(df_kphl_useful)\n",
    "\n",
    "useful = np.nan_to_num(useful)\n",
    "train, test = useful[0:(1713*30),:], useful[(1713*30):len(useful),:]\n",
    "print(len(train), len(test))\n"
   ]
  },
  {
   "cell_type": "code",
   "execution_count": 29,
   "metadata": {},
   "outputs": [],
   "source": [
    "look_back = 24\n",
    "trainX, trainY = create_dataset(train, look_back)\n",
    "testX, testY = create_dataset(test, look_back)\n"
   ]
  },
  {
   "cell_type": "code",
   "execution_count": 30,
   "metadata": {},
   "outputs": [
    {
     "name": "stdout",
     "output_type": "stream",
     "text": [
      "(51365, 1, 96) (9977, 1, 96) (51365,) (9977,)\n"
     ]
    }
   ],
   "source": [
    "# reshape input to be [samples, time steps, features]\n",
    "trainX = np.reshape(trainX, (trainX.shape[0], 1, trainX.shape[1]))\n",
    "testX = np.reshape(testX, (testX.shape[0], 1, testX.shape[1]))\n",
    "print(trainX.shape, testX.shape, trainY.shape, testY.shape)"
   ]
  },
  {
   "cell_type": "code",
   "execution_count": 31,
   "metadata": {},
   "outputs": [
    {
     "name": "stdout",
     "output_type": "stream",
     "text": [
      "Train on 51365 samples, validate on 9977 samples\n",
      "Epoch 1/60\n",
      " - 17s - loss: 41.0760 - val_loss: 24.9369\n",
      "Epoch 2/60\n",
      " - 11s - loss: 21.1826 - val_loss: 16.4118\n",
      "Epoch 3/60\n",
      " - 11s - loss: 16.5340 - val_loss: 16.3966\n",
      "Epoch 4/60\n",
      " - 10s - loss: 15.9131 - val_loss: 16.7411\n",
      "Epoch 5/60\n",
      " - 9s - loss: 15.8508 - val_loss: 16.9116\n",
      "Epoch 6/60\n",
      " - 9s - loss: 15.8538 - val_loss: 16.9701\n",
      "Epoch 7/60\n",
      " - 9s - loss: 15.8573 - val_loss: 16.9981\n",
      "Epoch 8/60\n",
      " - 9s - loss: 15.8608 - val_loss: 17.0072\n",
      "Epoch 9/60\n",
      " - 9s - loss: 15.8619 - val_loss: 17.0091\n",
      "Epoch 10/60\n",
      " - 9s - loss: 15.8624 - val_loss: 17.0085\n",
      "Epoch 11/60\n",
      " - 9s - loss: 15.8624 - val_loss: 17.0084\n",
      "Epoch 12/60\n",
      " - 9s - loss: 15.8621 - val_loss: 17.0083\n",
      "Epoch 13/60\n",
      " - 9s - loss: 15.8627 - val_loss: 17.0086\n",
      "Epoch 14/60\n",
      " - 9s - loss: 15.8621 - val_loss: 17.0088\n",
      "Epoch 15/60\n",
      " - 9s - loss: 15.8622 - val_loss: 17.0078\n",
      "Epoch 16/60\n",
      " - 9s - loss: 15.8621 - val_loss: 17.0076\n",
      "Epoch 17/60\n",
      " - 9s - loss: 15.8618 - val_loss: 17.0084\n",
      "Epoch 18/60\n",
      " - 9s - loss: 15.8621 - val_loss: 17.0076\n",
      "Epoch 19/60\n",
      " - 9s - loss: 15.8620 - val_loss: 17.0074\n",
      "Epoch 20/60\n",
      " - 9s - loss: 15.8616 - val_loss: 17.0036\n",
      "Epoch 21/60\n",
      " - 9s - loss: 15.8606 - val_loss: 17.0073\n",
      "Epoch 22/60\n",
      " - 9s - loss: 15.8613 - val_loss: 17.0077\n",
      "Epoch 23/60\n",
      " - 9s - loss: 15.8615 - val_loss: 17.0069\n",
      "Epoch 24/60\n",
      " - 9s - loss: 15.8614 - val_loss: 17.0068\n",
      "Epoch 25/60\n",
      " - 9s - loss: 15.8616 - val_loss: 17.0030\n",
      "Epoch 26/60\n",
      " - 9s - loss: 15.8606 - val_loss: 17.0047\n",
      "Epoch 27/60\n",
      " - 9s - loss: 15.8604 - val_loss: 17.0046\n",
      "Epoch 28/60\n",
      " - 9s - loss: 15.8603 - val_loss: 17.0046\n",
      "Epoch 29/60\n",
      " - 9s - loss: 15.8603 - val_loss: 17.0046\n",
      "Epoch 30/60\n",
      " - 9s - loss: 15.8602 - val_loss: 17.0046\n",
      "Epoch 31/60\n",
      " - 9s - loss: 15.8599 - val_loss: 17.0050\n",
      "Epoch 32/60\n",
      " - 9s - loss: 15.8602 - val_loss: 17.0043\n",
      "Epoch 33/60\n",
      " - 9s - loss: 15.8601 - val_loss: 17.0043\n",
      "Epoch 34/60\n",
      " - 9s - loss: 15.8601 - val_loss: 17.0043\n",
      "Epoch 35/60\n",
      " - 9s - loss: 15.8598 - val_loss: 17.0047\n",
      "Epoch 36/60\n",
      " - 9s - loss: 15.8601 - val_loss: 17.0040\n",
      "Epoch 37/60\n",
      " - 9s - loss: 15.8599 - val_loss: 17.0039\n",
      "Epoch 38/60\n",
      " - 9s - loss: 15.8599 - val_loss: 17.0038\n",
      "Epoch 39/60\n",
      " - 8s - loss: 15.8600 - val_loss: 17.0055\n",
      "Epoch 40/60\n",
      " - 9s - loss: 15.8604 - val_loss: 17.0063\n",
      "Epoch 41/60\n",
      " - 9s - loss: 15.8607 - val_loss: 17.0055\n",
      "Epoch 42/60\n",
      " - 9s - loss: 15.8606 - val_loss: 17.0054\n",
      "Epoch 43/60\n",
      " - 9s - loss: 15.8605 - val_loss: 17.0053\n",
      "Epoch 44/60\n",
      " - 9s - loss: 15.8605 - val_loss: 17.0052\n",
      "Epoch 45/60\n",
      " - 11s - loss: 15.8605 - val_loss: 17.0051\n",
      "Epoch 46/60\n",
      " - 11s - loss: 15.8604 - val_loss: 17.0050\n",
      "Epoch 47/60\n",
      " - 11s - loss: 15.8601 - val_loss: 17.0058\n",
      "Epoch 48/60\n",
      " - 9s - loss: 15.8604 - val_loss: 17.0050\n",
      "Epoch 49/60\n",
      " - 9s - loss: 15.8603 - val_loss: 17.0049\n",
      "Epoch 50/60\n",
      " - 9s - loss: 15.8603 - val_loss: 17.0048\n",
      "Epoch 51/60\n",
      " - 9s - loss: 15.8602 - val_loss: 17.0047\n",
      "Epoch 52/60\n",
      " - 9s - loss: 15.8602 - val_loss: 17.0046\n",
      "Epoch 53/60\n",
      " - 9s - loss: 15.8599 - val_loss: 17.0054\n",
      "Epoch 54/60\n",
      " - 9s - loss: 15.8602 - val_loss: 17.0046\n",
      "Epoch 55/60\n",
      " - 9s - loss: 15.8601 - val_loss: 17.0045\n",
      "Epoch 56/60\n",
      " - 9s - loss: 15.8601 - val_loss: 17.0042\n",
      "Epoch 57/60\n",
      " - 10s - loss: 15.8598 - val_loss: 17.0048\n",
      "Epoch 58/60\n",
      " - 9s - loss: 15.8600 - val_loss: 17.0041\n",
      "Epoch 59/60\n",
      " - 10s - loss: 15.8597 - val_loss: 17.0047\n",
      "Epoch 60/60\n",
      " - 9s - loss: 15.8599 - val_loss: 17.0039\n"
     ]
    }
   ],
   "source": [
    "#This is for all data \n",
    "model = Sequential()\n",
    "model.add(LSTM(96, input_shape=(trainX.shape[1], trainX.shape[2])))\n",
    "model.add(Dense(1))\n",
    "model.compile(loss='mae', optimizer='adam')\n",
    "# fit network\n",
    "history = model.fit(trainX, trainY, epochs=60, batch_size=72, validation_data=(testX, testY), verbose=2, shuffle=False)"
   ]
  },
  {
   "cell_type": "code",
   "execution_count": 36,
   "metadata": {},
   "outputs": [],
   "source": [
    "# make predictions\n",
    "trainPredict = model.predict(trainX)\n",
    "testPredict = model.predict(testX)"
   ]
  },
  {
   "cell_type": "code",
   "execution_count": 37,
   "metadata": {},
   "outputs": [
    {
     "name": "stdout",
     "output_type": "stream",
     "text": [
      "Train Score for only temp: 18.73 RMSE\n",
      "Test Score for only temp: 19.83 RMSE\n"
     ]
    }
   ],
   "source": [
    "# calculate root mean squared error\n",
    "import math\n",
    "from sklearn.metrics import mean_squared_error\n",
    "\n",
    "trainScore = math.sqrt(mean_squared_error(trainY, trainPredict[:,0]))\n",
    "print('Train Score for only temp: %.2f RMSE' % (trainScore))\n",
    "testScore = math.sqrt(mean_squared_error(testY, testPredict[:,0]))\n",
    "print('Test Score for only temp: %.2f RMSE' % (testScore))\n"
   ]
  },
  {
   "cell_type": "code",
   "execution_count": null,
   "metadata": {},
   "outputs": [],
   "source": []
  }
 ],
 "metadata": {
  "kernelspec": {
   "display_name": "Python 3",
   "language": "python",
   "name": "python3"
  },
  "language_info": {
   "codemirror_mode": {
    "name": "ipython",
    "version": 3
   },
   "file_extension": ".py",
   "mimetype": "text/x-python",
   "name": "python",
   "nbconvert_exporter": "python",
   "pygments_lexer": "ipython3",
   "version": "3.6.8"
  }
 },
 "nbformat": 4,
 "nbformat_minor": 2
}
