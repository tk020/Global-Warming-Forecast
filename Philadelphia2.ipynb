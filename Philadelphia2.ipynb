{
 "cells": [
  {
   "cell_type": "code",
   "execution_count": 55,
   "metadata": {},
   "outputs": [],
   "source": [
    "import numpy as np\n",
    "import pandas as pd\n",
    "import matplotlib.pyplot as plt\n",
    "import seaborn as sns\n",
    "import os\n",
    "\n",
    "os.environ[\"KMP_DUPLICATE_LIB_OK\"]=\"True\""
   ]
  },
  {
   "cell_type": "code",
   "execution_count": 56,
   "metadata": {},
   "outputs": [],
   "source": [
    "def process_FAA_hourly_data(filename):\n",
    "    path = os.getcwd()\n",
    "    pathfile = os.path.join(path,\"data\",filename)\n",
    "    df_temps = pd.read_csv(pathfile, skiprows=16)\n",
    "    df_temps = df_temps.iloc[:,:-1]\n",
    "    df_temps = df_temps.loc[df_temps[df_temps.columns[0]] != df_temps.columns[0]]\n",
    "    df_temps[df_temps.columns[1]] = df_temps[df_temps.columns[1]].apply(pd.to_numeric, downcast = \"integer\")\n",
    "    df_temps[df_temps.columns[2:]] = df_temps[df_temps.columns[2:]].apply(pd.to_numeric, downcast = \"float\")\n",
    "    df_temps = df_temps.set_index(pd.DatetimeIndex(df_temps[df_temps.columns[0]]))\n",
    "    df_temps = df_temps.drop([df_temps.columns[0]], axis=1)\n",
    "    return df_temps"
   ]
  },
  {
   "cell_type": "code",
   "execution_count": 57,
   "metadata": {},
   "outputs": [],
   "source": [
    "df_kphl = process_FAA_hourly_data(\"faa_hourly-KPHL_20120101-20190101.csv\")\n"
   ]
  },
  {
   "cell_type": "code",
   "execution_count": 58,
   "metadata": {},
   "outputs": [],
   "source": [
    "df_kphl_useful = df_kphl.iloc[:,[1,7,8,9]]\n",
    "df_kphl_temp = df_kphl.iloc[:,1]"
   ]
  },
  {
   "cell_type": "code",
   "execution_count": 59,
   "metadata": {},
   "outputs": [],
   "source": [
    "#df_kphl_useful contains four different variables\n",
    "start = df_kphl_useful.index[0]\n",
    "end = df_kphl_useful.index[-1]\n",
    "idx = pd.date_range(start, end, freq='H')\n",
    "\n",
    "df_kphl_useful = df_kphl_useful.reindex(idx, fill_value = np.nan)\n"
   ]
  },
  {
   "cell_type": "code",
   "execution_count": 60,
   "metadata": {},
   "outputs": [],
   "source": [
    "#df_kphl_temp contains only temperature data\n",
    "start = df_kphl_temp.index[0]\n",
    "end = df_kphl_temp.index[-1]\n",
    "idx = pd.date_range(start, end, freq='H')\n",
    "\n",
    "df_kphl_temp = df_kphl_temp.reindex(idx, fill_value = np.nan)\n"
   ]
  },
  {
   "cell_type": "code",
   "execution_count": 61,
   "metadata": {},
   "outputs": [
    {
     "name": "stdout",
     "output_type": "stream",
     "text": [
      "Start day four variables is 2012-01-01 00:00:00\n",
      "End day four variables is 2019-01-01 23:00:00\n",
      "\n",
      "\n",
      "\n",
      "Start day for temperature is 2012-01-01 00:00:00\n",
      "End day for temperature is 2019-01-01 23:00:00\n"
     ]
    }
   ],
   "source": [
    "print(\"Start day four variables is {}\".format(df_kphl_useful.index[0]))\n",
    "print(\"End day four variables is {}\".format(df_kphl_useful.index[-1]))\n",
    "print(\"\\n\\n\")\n",
    "print(\"Start day for temperature is {}\".format(df_kphl_useful.index[0]))\n",
    "print(\"End day for temperature is {}\".format(df_kphl_useful.index[-1]))"
   ]
  },
  {
   "cell_type": "code",
   "execution_count": 62,
   "metadata": {},
   "outputs": [],
   "source": [
    "#Normalize the temp data set\n",
    "from sklearn.preprocessing import MinMaxScaler\n",
    "\n",
    "temp = np.array(df_kphl_temp)\n",
    "temp = temp.reshape(-1,1)\n",
    "scaler_temp = MinMaxScaler(feature_range=(0, 1))\n",
    "temp = scaler_temp.fit_transform(temp)\n"
   ]
  },
  {
   "cell_type": "code",
   "execution_count": 63,
   "metadata": {},
   "outputs": [],
   "source": [
    "#Stacked auto encoder\n",
    "from keras.layers import *\n",
    "from keras.models import Model, Sequential\n",
    "from keras.layers import Input, LSTM, RepeatVector"
   ]
  },
  {
   "cell_type": "code",
   "execution_count": 64,
   "metadata": {},
   "outputs": [
    {
     "name": "stdout",
     "output_type": "stream",
     "text": [
      "51390 10002\n"
     ]
    }
   ],
   "source": [
    "# split into train and test sets (67% of them are for train data)\n",
    "\n",
    "temp = np.nan_to_num(temp)\n",
    "train, test = temp[0:(1713*30),:], temp[(1713*30):len(temp),:]\n",
    "print(len(train), len(test))\n"
   ]
  },
  {
   "cell_type": "code",
   "execution_count": 65,
   "metadata": {},
   "outputs": [],
   "source": [
    "#Get Only temperature data\n",
    "def create_datasettemp(dataset, look_back=25):\n",
    "    data = []\n",
    "    for i in range(len(dataset)-look_back-1):\n",
    "        a = dataset[i:(i+look_back), 0].flatten()\n",
    "        data.append(a)\n",
    "    return np.array(data)\n",
    "\n",
    "#Get all four variables\n",
    "def create_dataset(dataset, look_back=24):\n",
    "    dataX, dataY = [], []\n",
    "    for i in range(len(dataset)-look_back-1):\n",
    "        a = dataset[i:(i+look_back), :].flatten()\n",
    "        dataX.append(a)\n",
    "        dataY.append(dataset[i + look_back, 0])\n",
    "    return np.array(dataX), np.array(dataY)"
   ]
  },
  {
   "cell_type": "code",
   "execution_count": 66,
   "metadata": {},
   "outputs": [
    {
     "data": {
      "text/plain": [
       "(51364, 25)"
      ]
     },
     "execution_count": 66,
     "metadata": {},
     "output_type": "execute_result"
    }
   ],
   "source": [
    "# reshape into X=t and Y=t+1\n",
    "look_back = 25\n",
    "traindata = create_datasettemp(train, look_back)\n",
    "testdata = create_datasettemp(test, look_back)\n",
    "\n",
    "\n",
    "traindata.shape\n"
   ]
  },
  {
   "cell_type": "code",
   "execution_count": 67,
   "metadata": {},
   "outputs": [],
   "source": [
    "trainX = traindata[:,0:-1]\n",
    "trainY = traindata[:,-1]\n",
    "\n",
    "testX = testdata[:,0:-1]\n",
    "testY = testdata[:,-1]"
   ]
  },
  {
   "cell_type": "code",
   "execution_count": 68,
   "metadata": {},
   "outputs": [
    {
     "name": "stdout",
     "output_type": "stream",
     "text": [
      "(51364, 1, 24) (9976, 1, 24) (51364,) (9976,)\n"
     ]
    }
   ],
   "source": [
    "# reshape input to be [samples, time steps, features]\n",
    "trainX = np.reshape(trainX, (trainX.shape[0], 1, trainX.shape[1]))\n",
    "testX = np.reshape(testX, (testX.shape[0], 1, testX.shape[1]))\n",
    "print(trainX.shape, testX.shape, trainY.shape, testY.shape)"
   ]
  },
  {
   "cell_type": "code",
   "execution_count": 69,
   "metadata": {},
   "outputs": [
    {
     "name": "stdout",
     "output_type": "stream",
     "text": [
      "Train on 51364 samples, validate on 9976 samples\n",
      "Epoch 1/50\n",
      " - 9s - loss: 0.0341 - val_loss: 0.0247\n",
      "Epoch 2/50\n",
      " - 5s - loss: 0.0222 - val_loss: 0.0215\n",
      "Epoch 3/50\n",
      " - 5s - loss: 0.0199 - val_loss: 0.0206\n",
      "Epoch 4/50\n",
      " - 5s - loss: 0.0188 - val_loss: 0.0218\n",
      "Epoch 5/50\n",
      " - 5s - loss: 0.0182 - val_loss: 0.0211\n",
      "Epoch 6/50\n",
      " - 5s - loss: 0.0176 - val_loss: 0.0231\n",
      "Epoch 7/50\n",
      " - 5s - loss: 0.0176 - val_loss: 0.0184\n",
      "Epoch 8/50\n",
      " - 5s - loss: 0.0177 - val_loss: 0.0193\n",
      "Epoch 9/50\n",
      " - 5s - loss: 0.0173 - val_loss: 0.0186\n",
      "Epoch 10/50\n",
      " - 5s - loss: 0.0171 - val_loss: 0.0181\n",
      "Epoch 11/50\n",
      " - 5s - loss: 0.0171 - val_loss: 0.0180\n",
      "Epoch 12/50\n",
      " - 5s - loss: 0.0171 - val_loss: 0.0179\n",
      "Epoch 13/50\n",
      " - 5s - loss: 0.0169 - val_loss: 0.0171\n",
      "Epoch 14/50\n",
      " - 5s - loss: 0.0170 - val_loss: 0.0158\n",
      "Epoch 15/50\n",
      " - 5s - loss: 0.0168 - val_loss: 0.0159\n",
      "Epoch 16/50\n",
      " - 5s - loss: 0.0167 - val_loss: 0.0161\n",
      "Epoch 17/50\n",
      " - 5s - loss: 0.0166 - val_loss: 0.0165\n",
      "Epoch 18/50\n",
      " - 5s - loss: 0.0165 - val_loss: 0.0157\n",
      "Epoch 19/50\n",
      " - 5s - loss: 0.0165 - val_loss: 0.0160\n",
      "Epoch 20/50\n",
      " - 5s - loss: 0.0164 - val_loss: 0.0150\n",
      "Epoch 21/50\n",
      " - 5s - loss: 0.0163 - val_loss: 0.0155\n",
      "Epoch 22/50\n",
      " - 5s - loss: 0.0163 - val_loss: 0.0152\n",
      "Epoch 23/50\n",
      " - 5s - loss: 0.0163 - val_loss: 0.0154\n",
      "Epoch 24/50\n",
      " - 5s - loss: 0.0162 - val_loss: 0.0150\n",
      "Epoch 25/50\n",
      " - 5s - loss: 0.0162 - val_loss: 0.0154\n",
      "Epoch 26/50\n",
      " - 5s - loss: 0.0161 - val_loss: 0.0148\n",
      "Epoch 27/50\n",
      " - 5s - loss: 0.0161 - val_loss: 0.0151\n",
      "Epoch 28/50\n",
      " - 5s - loss: 0.0161 - val_loss: 0.0159\n",
      "Epoch 29/50\n",
      " - 5s - loss: 0.0161 - val_loss: 0.0149\n",
      "Epoch 30/50\n",
      " - 5s - loss: 0.0161 - val_loss: 0.0153\n",
      "Epoch 31/50\n",
      " - 5s - loss: 0.0160 - val_loss: 0.0150\n",
      "Epoch 32/50\n",
      " - 5s - loss: 0.0160 - val_loss: 0.0149\n",
      "Epoch 33/50\n",
      " - 5s - loss: 0.0159 - val_loss: 0.0157\n",
      "Epoch 34/50\n",
      " - 5s - loss: 0.0159 - val_loss: 0.0149\n",
      "Epoch 35/50\n",
      " - 5s - loss: 0.0159 - val_loss: 0.0150\n",
      "Epoch 36/50\n",
      " - 5s - loss: 0.0158 - val_loss: 0.0147\n",
      "Epoch 37/50\n",
      " - 5s - loss: 0.0159 - val_loss: 0.0156\n",
      "Epoch 38/50\n",
      " - 5s - loss: 0.0159 - val_loss: 0.0157\n",
      "Epoch 39/50\n",
      " - 5s - loss: 0.0158 - val_loss: 0.0149\n",
      "Epoch 40/50\n",
      " - 5s - loss: 0.0158 - val_loss: 0.0153\n",
      "Epoch 41/50\n",
      " - 5s - loss: 0.0157 - val_loss: 0.0152\n",
      "Epoch 42/50\n",
      " - 5s - loss: 0.0158 - val_loss: 0.0149\n",
      "Epoch 43/50\n",
      " - 5s - loss: 0.0157 - val_loss: 0.0150\n",
      "Epoch 44/50\n",
      " - 5s - loss: 0.0156 - val_loss: 0.0146\n",
      "Epoch 45/50\n",
      " - 5s - loss: 0.0156 - val_loss: 0.0147\n",
      "Epoch 46/50\n",
      " - 5s - loss: 0.0156 - val_loss: 0.0148\n",
      "Epoch 47/50\n",
      " - 5s - loss: 0.0156 - val_loss: 0.0153\n",
      "Epoch 48/50\n",
      " - 5s - loss: 0.0156 - val_loss: 0.0146\n",
      "Epoch 49/50\n",
      " - 5s - loss: 0.0155 - val_loss: 0.0150\n",
      "Epoch 50/50\n",
      " - 5s - loss: 0.0155 - val_loss: 0.0147\n"
     ]
    }
   ],
   "source": [
    "#This is for temperature \n",
    "model = Sequential()\n",
    "model.add(LSTM(50, input_shape=(trainX.shape[1], trainX.shape[2])))\n",
    "model.add(Dense(1))\n",
    "model.compile(loss='mae', optimizer='adam')\n",
    "# fit network\n",
    "history = model.fit(trainX, trainY, epochs=50, batch_size=72, validation_data=(testX, testY), verbose=2, shuffle=False)"
   ]
  },
  {
   "cell_type": "code",
   "execution_count": 70,
   "metadata": {},
   "outputs": [],
   "source": [
    "# make predictions\n",
    "trainPredict = model.predict(trainX)\n",
    "testPredict = model.predict(testX)"
   ]
  },
  {
   "cell_type": "code",
   "execution_count": 71,
   "metadata": {},
   "outputs": [],
   "source": [
    "# invert predictions\n",
    "trainPredict = scaler_temp.inverse_transform(trainPredict)\n",
    "trainY = scaler_temp.inverse_transform([trainY])\n",
    "testPredict = scaler_temp.inverse_transform(testPredict)\n",
    "testY = scaler_temp.inverse_transform([testY])"
   ]
  },
  {
   "cell_type": "code",
   "execution_count": 72,
   "metadata": {},
   "outputs": [
    {
     "name": "stdout",
     "output_type": "stream",
     "text": [
      "Train Score for only temp: 4.97 RMSE\n",
      "Test Score for only temp: 4.69 RMSE\n"
     ]
    }
   ],
   "source": [
    "# calculate root mean squared error\n",
    "import math\n",
    "from sklearn.metrics import mean_squared_error\n",
    "\n",
    "trainScore = math.sqrt(mean_squared_error(trainY[0], trainPredict[:,0]))\n",
    "print('Train Score for only temp: %.2f RMSE' % (trainScore))\n",
    "testScore = math.sqrt(mean_squared_error(testY[0], testPredict[:,0]))\n",
    "print('Test Score for only temp: %.2f RMSE' % (testScore))\n"
   ]
  },
  {
   "cell_type": "code",
   "execution_count": 73,
   "metadata": {},
   "outputs": [
    {
     "data": {
      "image/png": "[encoded data removed]",
      "text/plain": [
       "<Figure size 432x288 with 1 Axes>"
      ]
     },
     "metadata": {
      "needs_background": "light"
     },
     "output_type": "display_data"
    }
   ],
   "source": [
    "plt.plot(history.history['loss'], label='train')\n",
    "plt.plot(history.history['val_loss'], label='test')\n",
    "plt.legend() \n",
    "plt.show()"
   ]
  },
  {
   "cell_type": "code",
   "execution_count": null,
   "metadata": {},
   "outputs": [],
   "source": []
  },
  {
   "cell_type": "code",
   "execution_count": 74,
   "metadata": {},
   "outputs": [],
   "source": [
    "#Normalize the whole data set\n",
    "from sklearn.preprocessing import MinMaxScaler\n",
    "\n",
    "useful = np.array(df_kphl_useful)\n",
    "scaler_useful = MinMaxScaler(feature_range=(0, 1))\n",
    "useful = scaler_useful.fit_transform(useful)\n"
   ]
  },
  {
   "cell_type": "code",
   "execution_count": 75,
   "metadata": {},
   "outputs": [
    {
     "name": "stdout",
     "output_type": "stream",
     "text": [
      "51390 10002\n"
     ]
    }
   ],
   "source": [
    "# split into train and test sets (67% of them are for train data)\n",
    "\n",
    "useful = np.nan_to_num(useful)\n",
    "train, test = useful[0:(1713*30),:], useful[(1713*30):len(useful),:]\n",
    "print(len(train), len(test))\n"
   ]
  },
  {
   "cell_type": "code",
   "execution_count": 76,
   "metadata": {},
   "outputs": [],
   "source": [
    "look_back = 24\n",
    "trainX, trainY = create_dataset(train, look_back)\n",
    "testX, testY = create_dataset(test, look_back)\n"
   ]
  },
  {
   "cell_type": "code",
   "execution_count": 77,
   "metadata": {},
   "outputs": [
    {
     "name": "stdout",
     "output_type": "stream",
     "text": [
      "(51365, 1, 96) (9977, 1, 96) (51365,) (9977,)\n"
     ]
    }
   ],
   "source": [
    "# reshape input to be [samples, time steps, features]\n",
    "trainX = np.reshape(trainX, (trainX.shape[0], 1, trainX.shape[1]))\n",
    "testX = np.reshape(testX, (testX.shape[0], 1, testX.shape[1]))\n",
    "print(trainX.shape, testX.shape, trainY.shape, testY.shape)"
   ]
  },
  {
   "cell_type": "code",
   "execution_count": 78,
   "metadata": {},
   "outputs": [
    {
     "name": "stdout",
     "output_type": "stream",
     "text": [
      "Train on 51365 samples, validate on 9977 samples\n",
      "Epoch 1/60\n",
      " - 12s - loss: 0.0439 - val_loss: 0.0347\n",
      "Epoch 2/60\n",
      " - 8s - loss: 0.0301 - val_loss: 0.0354\n",
      "Epoch 3/60\n",
      " - 8s - loss: 0.0267 - val_loss: 0.0393\n",
      "Epoch 4/60\n",
      " - 8s - loss: 0.0248 - val_loss: 0.0342\n",
      "Epoch 5/60\n",
      " - 8s - loss: 0.0235 - val_loss: 0.0276\n",
      "Epoch 6/60\n",
      " - 8s - loss: 0.0226 - val_loss: 0.0280\n",
      "Epoch 7/60\n",
      " - 8s - loss: 0.0223 - val_loss: 0.0270\n",
      "Epoch 8/60\n",
      " - 8s - loss: 0.0215 - val_loss: 0.0179\n",
      "Epoch 9/60\n",
      " - 8s - loss: 0.0207 - val_loss: 0.0218\n",
      "Epoch 10/60\n",
      " - 8s - loss: 0.0207 - val_loss: 0.0271\n",
      "Epoch 11/60\n",
      " - 8s - loss: 0.0200 - val_loss: 0.0265\n",
      "Epoch 12/60\n",
      " - 8s - loss: 0.0203 - val_loss: 0.0283\n",
      "Epoch 13/60\n",
      " - 8s - loss: 0.0197 - val_loss: 0.0240\n",
      "Epoch 14/60\n",
      " - 8s - loss: 0.0196 - val_loss: 0.0247\n",
      "Epoch 15/60\n",
      " - 8s - loss: 0.0193 - val_loss: 0.0266\n",
      "Epoch 16/60\n",
      " - 8s - loss: 0.0193 - val_loss: 0.0220\n",
      "Epoch 17/60\n",
      " - 8s - loss: 0.0191 - val_loss: 0.0239\n",
      "Epoch 18/60\n",
      " - 8s - loss: 0.0187 - val_loss: 0.0273\n",
      "Epoch 19/60\n",
      " - 8s - loss: 0.0186 - val_loss: 0.0244\n",
      "Epoch 20/60\n",
      " - 8s - loss: 0.0185 - val_loss: 0.0226\n",
      "Epoch 21/60\n",
      " - 8s - loss: 0.0180 - val_loss: 0.0221\n",
      "Epoch 22/60\n",
      " - 8s - loss: 0.0182 - val_loss: 0.0221\n",
      "Epoch 23/60\n",
      " - 8s - loss: 0.0181 - val_loss: 0.0198\n",
      "Epoch 24/60\n",
      " - 8s - loss: 0.0180 - val_loss: 0.0230\n",
      "Epoch 25/60\n",
      " - 8s - loss: 0.0180 - val_loss: 0.0213\n",
      "Epoch 26/60\n",
      " - 8s - loss: 0.0181 - val_loss: 0.0189\n",
      "Epoch 27/60\n",
      " - 8s - loss: 0.0180 - val_loss: 0.0189\n",
      "Epoch 28/60\n",
      " - 8s - loss: 0.0177 - val_loss: 0.0184\n",
      "Epoch 29/60\n",
      " - 8s - loss: 0.0175 - val_loss: 0.0203\n",
      "Epoch 30/60\n",
      " - 8s - loss: 0.0173 - val_loss: 0.0191\n",
      "Epoch 31/60\n",
      " - 8s - loss: 0.0173 - val_loss: 0.0182\n",
      "Epoch 32/60\n",
      " - 8s - loss: 0.0175 - val_loss: 0.0168\n",
      "Epoch 33/60\n",
      " - 8s - loss: 0.0170 - val_loss: 0.0189\n",
      "Epoch 34/60\n",
      " - 8s - loss: 0.0176 - val_loss: 0.0168\n",
      "Epoch 35/60\n",
      " - 8s - loss: 0.0171 - val_loss: 0.0193\n",
      "Epoch 36/60\n",
      " - 8s - loss: 0.0169 - val_loss: 0.0174\n",
      "Epoch 37/60\n",
      " - 8s - loss: 0.0171 - val_loss: 0.0162\n",
      "Epoch 38/60\n",
      " - 8s - loss: 0.0169 - val_loss: 0.0156\n",
      "Epoch 39/60\n",
      " - 8s - loss: 0.0167 - val_loss: 0.0193\n",
      "Epoch 40/60\n",
      " - 8s - loss: 0.0166 - val_loss: 0.0179\n",
      "Epoch 41/60\n",
      " - 8s - loss: 0.0162 - val_loss: 0.0172\n",
      "Epoch 42/60\n",
      " - 8s - loss: 0.0162 - val_loss: 0.0154\n",
      "Epoch 43/60\n",
      " - 8s - loss: 0.0165 - val_loss: 0.0186\n",
      "Epoch 44/60\n",
      " - 8s - loss: 0.0160 - val_loss: 0.0147\n",
      "Epoch 45/60\n",
      " - 8s - loss: 0.0161 - val_loss: 0.0199\n",
      "Epoch 46/60\n",
      " - 8s - loss: 0.0157 - val_loss: 0.0196\n",
      "Epoch 47/60\n",
      " - 8s - loss: 0.0164 - val_loss: 0.0174\n",
      "Epoch 48/60\n",
      " - 8s - loss: 0.0159 - val_loss: 0.0168\n",
      "Epoch 49/60\n",
      " - 8s - loss: 0.0160 - val_loss: 0.0189\n",
      "Epoch 50/60\n",
      " - 8s - loss: 0.0163 - val_loss: 0.0179\n",
      "Epoch 51/60\n",
      " - 8s - loss: 0.0160 - val_loss: 0.0195\n",
      "Epoch 52/60\n",
      " - 8s - loss: 0.0154 - val_loss: 0.0159\n",
      "Epoch 53/60\n",
      " - 8s - loss: 0.0157 - val_loss: 0.0144\n",
      "Epoch 54/60\n",
      " - 8s - loss: 0.0157 - val_loss: 0.0192\n",
      "Epoch 55/60\n",
      " - 8s - loss: 0.0157 - val_loss: 0.0160\n",
      "Epoch 56/60\n",
      " - 8s - loss: 0.0153 - val_loss: 0.0179\n",
      "Epoch 57/60\n",
      " - 8s - loss: 0.0152 - val_loss: 0.0153\n",
      "Epoch 58/60\n",
      " - 8s - loss: 0.0151 - val_loss: 0.0169\n",
      "Epoch 59/60\n",
      " - 8s - loss: 0.0150 - val_loss: 0.0169\n",
      "Epoch 60/60\n",
      " - 8s - loss: 0.0152 - val_loss: 0.0178\n"
     ]
    }
   ],
   "source": [
    "#This is for all data \n",
    "model = Sequential()\n",
    "model.add(LSTM(96, input_shape=(trainX.shape[1], trainX.shape[2])))\n",
    "model.add(Dense(1))\n",
    "model.compile(loss='mae', optimizer='adam')\n",
    "# fit network\n",
    "history = model.fit(trainX, trainY, epochs=60, batch_size=72, validation_data=(testX, testY), verbose=2, shuffle=False)"
   ]
  },
  {
   "cell_type": "code",
   "execution_count": 79,
   "metadata": {},
   "outputs": [],
   "source": [
    "# make predictions\n",
    "trainPredict = model.predict(trainX)\n",
    "testPredict = model.predict(testX)"
   ]
  },
  {
   "cell_type": "code",
   "execution_count": 80,
   "metadata": {},
   "outputs": [],
   "source": [
    "# invert predictions\n",
    "trainPredict = scaler_temp.inverse_transform(trainPredict)\n",
    "trainY = scaler_temp.inverse_transform([trainY])\n",
    "testPredict = scaler_temp.inverse_transform(testPredict)\n",
    "testY = scaler_temp.inverse_transform([testY])"
   ]
  },
  {
   "cell_type": "code",
   "execution_count": 89,
   "metadata": {},
   "outputs": [
    {
     "name": "stdout",
     "output_type": "stream",
     "text": [
      "Train Score for only temp: 4.38 RMSE\n",
      "Test Score for only temp: 4.30 RMSE\n",
      "(9977,)\n",
      "(9977,)\n"
     ]
    }
   ],
   "source": [
    "# calculate root mean squared error\n",
    "import math\n",
    "from sklearn.metrics import mean_squared_error\n",
    "\n",
    "trainScore = math.sqrt(mean_squared_error(trainY[0], trainPredict[:,0]))\n",
    "print('Train Score for only temp: %.2f RMSE' % (trainScore))\n",
    "testScore = math.sqrt(mean_squared_error(testY[0], testPredict[:,0]))\n",
    "print('Test Score for only temp: %.2f RMSE' % (testScore))\n",
    "\n",
    "\n",
    "print(testY[0].shape)\n",
    "print(testPredict[:,0].shape)"
   ]
  },
  {
   "cell_type": "code",
   "execution_count": 82,
   "metadata": {},
   "outputs": [
    {
     "data": {
      "image/png": "[encoded data removed]",
      "text/plain": [
       "<Figure size 432x288 with 1 Axes>"
      ]
     },
     "metadata": {
      "needs_background": "light"
     },
     "output_type": "display_data"
    }
   ],
   "source": [
    "plt.plot(history.history['loss'], label='train')\n",
    "plt.plot(history.history['val_loss'], label='test')\n",
    "plt.legend()\n",
    "plt.show()"
   ]
  },
  {
   "cell_type": "code",
   "execution_count": null,
   "metadata": {},
   "outputs": [],
   "source": []
  },
  {
   "cell_type": "code",
   "execution_count": null,
   "metadata": {},
   "outputs": [],
   "source": []
  },
  {
   "cell_type": "code",
   "execution_count": null,
   "metadata": {},
   "outputs": [],
   "source": []
  }
 ],
 "metadata": {
  "kernelspec": {
   "display_name": "Python 3",
   "language": "python",
   "name": "python3"
  },
  "language_info": {
   "codemirror_mode": {
    "name": "ipython",
    "version": 3
   },
   "file_extension": ".py",
   "mimetype": "text/x-python",
   "name": "python",
   "nbconvert_exporter": "python",
   "pygments_lexer": "ipython3",
   "version": "3.6.8"
  }
 },
 "nbformat": 4,
 "nbformat_minor": 2
}
